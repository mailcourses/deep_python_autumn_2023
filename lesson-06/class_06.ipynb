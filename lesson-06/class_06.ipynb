{
 "cells": [
  {
   "cell_type": "code",
   "execution_count": 1,
   "id": "185f4edd",
   "metadata": {},
   "outputs": [],
   "source": [
    "from collections import namedtuple"
   ]
  },
  {
   "cell_type": "code",
   "execution_count": 3,
   "id": "45c02db8",
   "metadata": {},
   "outputs": [],
   "source": [
    "Point = namedtuple(\"Point\", [\"x\", \"y\"])\n",
    "p = Point(1, 2)\n",
    "\n",
    "a, b = p"
   ]
  },
  {
   "cell_type": "code",
   "execution_count": 4,
   "id": "e48a5010",
   "metadata": {},
   "outputs": [
    {
     "data": {
      "text/plain": [
       "(1, 2)"
      ]
     },
     "execution_count": 4,
     "metadata": {},
     "output_type": "execute_result"
    }
   ],
   "source": [
    "a, b"
   ]
  },
  {
   "cell_type": "code",
   "execution_count": null,
   "id": "ec2b840d",
   "metadata": {},
   "outputs": [],
   "source": []
  },
  {
   "cell_type": "code",
   "execution_count": 5,
   "id": "692f1d44",
   "metadata": {},
   "outputs": [],
   "source": [
    "import threading"
   ]
  },
  {
   "cell_type": "code",
   "execution_count": 6,
   "id": "034eb2f1",
   "metadata": {},
   "outputs": [
    {
     "name": "stderr",
     "output_type": "stream",
     "text": [
      "/var/folders/c1/9wdb7dps2x332c6l1y2hrqkh0000gp/T/ipykernel_10402/2258099811.py:1: DeprecationWarning: activeCount() is deprecated, use active_count() instead\n",
      "  threading.active_count(), threading.activeCount()\n"
     ]
    },
    {
     "data": {
      "text/plain": [
       "(8, 8)"
      ]
     },
     "execution_count": 6,
     "metadata": {},
     "output_type": "execute_result"
    }
   ],
   "source": [
    "threading.active_count(), threading.activeCount()"
   ]
  },
  {
   "cell_type": "code",
   "execution_count": 7,
   "id": "711233fe",
   "metadata": {},
   "outputs": [
    {
     "data": {
      "text/plain": [
       "[<_MainThread(MainThread, started 4526339584)>,\n",
       " <Thread(IOPub, started daemon 123145353641984)>,\n",
       " <Heartbeat(Heartbeat, started daemon 123145370431488)>,\n",
       " <Thread(Thread-3 (_watch_pipe_fd), started daemon 123145388294144)>,\n",
       " <Thread(Thread-4 (_watch_pipe_fd), started daemon 123145405083648)>,\n",
       " <ControlThread(Control, started daemon 123145421873152)>,\n",
       " <HistorySavingThread(IPythonHistorySavingThread, started 123145438662656)>,\n",
       " <ParentPollerUnix(Thread-2, started daemon 123145455988736)>]"
      ]
     },
     "execution_count": 7,
     "metadata": {},
     "output_type": "execute_result"
    }
   ],
   "source": [
    "threading.enumerate()"
   ]
  },
  {
   "cell_type": "code",
   "execution_count": 8,
   "id": "835a890a",
   "metadata": {},
   "outputs": [
    {
     "data": {
      "text/plain": [
       "<_MainThread(MainThread, started 4526339584)>"
      ]
     },
     "execution_count": 8,
     "metadata": {},
     "output_type": "execute_result"
    }
   ],
   "source": [
    "threading.current_thread()"
   ]
  },
  {
   "cell_type": "code",
   "execution_count": 12,
   "id": "c298cc2f",
   "metadata": {},
   "outputs": [
    {
     "data": {
      "text/plain": [
       "('MainThread', 4526339584, 21379079)"
      ]
     },
     "execution_count": 12,
     "metadata": {},
     "output_type": "execute_result"
    }
   ],
   "source": [
    "th = threading.main_thread()\n",
    "th.name, th.ident, th.native_id"
   ]
  },
  {
   "cell_type": "code",
   "execution_count": 13,
   "id": "47b91cef",
   "metadata": {},
   "outputs": [
    {
     "data": {
      "text/plain": [
       "0"
      ]
     },
     "execution_count": 13,
     "metadata": {},
     "output_type": "execute_result"
    }
   ],
   "source": [
    "threading.stack_size()"
   ]
  },
  {
   "cell_type": "code",
   "execution_count": 28,
   "id": "d95afc00",
   "metadata": {},
   "outputs": [
    {
     "name": "stdout",
     "output_type": "stream",
     "text": [
      "th.name='Thread-7'\n",
      "slept 0\n",
      "slept 1\n",
      "slept 2\n",
      "slept 3\n",
      "slept 4\n",
      "slept 5\n",
      "slept 6\n",
      "slept 7\n",
      "slept 8\n",
      "slept 9\n"
     ]
    }
   ],
   "source": [
    "import time\n",
    "\n",
    "\n",
    "class PersonThread(threading.Thread):\n",
    "    \n",
    "    def __init__(self, n):\n",
    "        super().__init__()\n",
    "        self.n = n\n",
    "\n",
    "    def run(self):\n",
    "        th = threading.current_thread()\n",
    "        print(f\"{th.name=}\")\n",
    "    \n",
    "        for i in range(self.n):\n",
    "            time.sleep(1)\n",
    "            print(f\"slept {i}\")\n",
    "        \n",
    "\n",
    "th = PersonThread(10)\n",
    "th.start()\n",
    "th.join()"
   ]
  },
  {
   "cell_type": "code",
   "execution_count": 25,
   "id": "ff1dafe5",
   "metadata": {},
   "outputs": [
    {
     "data": {
      "text/plain": [
       "False"
      ]
     },
     "execution_count": 25,
     "metadata": {},
     "output_type": "execute_result"
    }
   ],
   "source": [
    "th.is_alive()"
   ]
  },
  {
   "cell_type": "code",
   "execution_count": null,
   "id": "0673a106",
   "metadata": {},
   "outputs": [],
   "source": []
  },
  {
   "cell_type": "code",
   "execution_count": 37,
   "id": "f0934643",
   "metadata": {},
   "outputs": [
    {
     "name": "stdout",
     "output_type": "stream",
     "text": [
      "CPU times: user 4.73 s, sys: 56.3 ms, total: 4.78 s\n",
      "Wall time: 4.86 s\n"
     ]
    }
   ],
   "source": [
    "%%time\n",
    "\n",
    "N = 100_000_000\n",
    "\n",
    "def counter(a, b):\n",
    "    while a < b:\n",
    "        a += 1\n",
    "        \n",
    "\n",
    "counter(0, N)"
   ]
  },
  {
   "cell_type": "code",
   "execution_count": 44,
   "id": "2d4926c9",
   "metadata": {},
   "outputs": [
    {
     "name": "stdout",
     "output_type": "stream",
     "text": [
      "th.name='count-0', th.native_id=21635454\n",
      "CPU times: user 5.07 s, sys: 64.9 ms, total: 5.14 s\n",
      "Wall time: 5.24 s\n"
     ]
    }
   ],
   "source": [
    "%%time\n",
    "\n",
    "N = 100_000_000\n",
    "N_THREADS = 1\n",
    "SIZE = N // N_THREADS\n",
    "\n",
    "\n",
    "def counter(a, b):\n",
    "    th = threading.current_thread()\n",
    "    print(f\"{th.name=}, {th.native_id=}\")\n",
    "\n",
    "    while a < b:\n",
    "        a += 1\n",
    "\n",
    "\n",
    "threads = [\n",
    "    threading.Thread(\n",
    "        target=counter,\n",
    "        name=f\"count-{i}\",\n",
    "        args=(i * SIZE, (i + 1) * SIZE),\n",
    "    )\n",
    "    for i in range(N_THREADS)\n",
    "]\n",
    "\n",
    "for th in threads:\n",
    "    th.start()\n",
    "\n",
    "for th in threads:\n",
    "    th.join()"
   ]
  },
  {
   "cell_type": "code",
   "execution_count": null,
   "id": "e6817131",
   "metadata": {},
   "outputs": [],
   "source": []
  },
  {
   "cell_type": "code",
   "execution_count": null,
   "id": "0b0ede67",
   "metadata": {},
   "outputs": [],
   "source": []
  },
  {
   "cell_type": "code",
   "execution_count": 45,
   "id": "eb23b9d8",
   "metadata": {},
   "outputs": [],
   "source": [
    "from urllib.request import urlopen"
   ]
  },
  {
   "cell_type": "code",
   "execution_count": null,
   "id": "77332be9",
   "metadata": {},
   "outputs": [],
   "source": []
  },
  {
   "cell_type": "code",
   "execution_count": 53,
   "id": "4d0bf904",
   "metadata": {},
   "outputs": [
    {
     "name": "stdout",
     "output_type": "stream",
     "text": [
      "th.name='MainThread', th.native_id=21379079, len(urls)=100\n",
      "CPU times: user 920 ms, sys: 99.4 ms, total: 1.02 s\n",
      "Wall time: 16.6 s\n"
     ]
    }
   ],
   "source": [
    "%%time\n",
    "\n",
    "N = 100\n",
    "N_THREADS = 10\n",
    "SIZE = N // N_THREADS\n",
    "\n",
    "URL = \"https://ru.wikipedia.org/wiki/Python\"\n",
    "URLS = [URL] * N\n",
    "\n",
    "\n",
    "def fetch_url(url):    \n",
    "    resp = urlopen(url)\n",
    "    return resp\n",
    "\n",
    "\n",
    "def fetch_batch_urls(urls):\n",
    "    th = threading.current_thread()\n",
    "    print(f\"{th.name=}, {th.native_id=}, {len(urls)=}\")\n",
    "\n",
    "    for url in urls:\n",
    "        fetch_url(url)\n",
    "\n",
    "\n",
    "fetch_batch_urls(URLS)"
   ]
  },
  {
   "cell_type": "code",
   "execution_count": 59,
   "id": "c04ca3aa",
   "metadata": {},
   "outputs": [
    {
     "name": "stdout",
     "output_type": "stream",
     "text": [
      "CPU times: user 11 µs, sys: 0 ns, total: 11 µs\n",
      "Wall time: 14.1 µs\n"
     ]
    }
   ],
   "source": [
    "%%time\n",
    "\n",
    "N = 100\n",
    "N_THREADS = 1\n",
    "SIZE = N // N_THREADS\n",
    "\n",
    "URL = \"https://ru.wikipedia.org/wiki/Python\"\n",
    "URLS = [URL] * N\n",
    "\n",
    "\n",
    "def fetch_url(url):\n",
    "    time.sleep(0.1)\n",
    "#     resp = urlopen(url)\n",
    "#     return resp\n",
    "\n",
    "def fetch_batch_urls(urls):\n",
    "    th = threading.current_thread()\n",
    "    print(f\"{th.name=}, {th.native_id=}, {len(urls)=}\")\n",
    "\n",
    "    for url in urls:\n",
    "        fetch_url(url)\n",
    "\n",
    "\n",
    "def run_exp(n_threads, n):\n",
    "    size = n // n_threads\n",
    "    \n",
    "    threads = [\n",
    "        threading.Thread(\n",
    "            target=fetch_batch_urls,\n",
    "            name=f\"fetch-{i}\",\n",
    "            args=(URLS[i * size : (i + 1) * size],),\n",
    "        )\n",
    "        for i in range(n_threads)\n",
    "    ]\n",
    "\n",
    "    for th in threads:\n",
    "        th.start()\n",
    "\n",
    "    for th in threads:\n",
    "        th.join()"
   ]
  },
  {
   "cell_type": "code",
   "execution_count": 61,
   "id": "29285074",
   "metadata": {},
   "outputs": [
    {
     "name": "stdout",
     "output_type": "stream",
     "text": [
      "th.name='fetch-0', th.native_id=21656933, len(urls)=50\n",
      "th.name='fetch-1', th.native_id=21656934, len(urls)=50\n",
      "CPU times: user 3.71 ms, sys: 3.21 ms, total: 6.92 ms\n",
      "Wall time: 5.18 s\n"
     ]
    }
   ],
   "source": [
    "%%time\n",
    "\n",
    "run_exp(2, 100)"
   ]
  },
  {
   "cell_type": "code",
   "execution_count": 63,
   "id": "02c29675",
   "metadata": {},
   "outputs": [
    {
     "name": "stdout",
     "output_type": "stream",
     "text": [
      "th.name='fetch-0', th.native_id=21657303, len(urls)=5\n",
      "th.name='fetch-1', th.native_id=21657304, len(urls)=5\n",
      "th.name='fetch-2', th.native_id=21657305, len(urls)=5\n",
      "th.name='fetch-3', th.native_id=21657306, len(urls)=5\n",
      "th.name='fetch-4', th.native_id=21657307, len(urls)=5\n",
      "th.name='fetch-5', th.native_id=21657308, len(urls)=5\n",
      "th.name='fetch-6', th.native_id=21657309, len(urls)=5\n",
      "th.name='fetch-7', th.native_id=21657310, len(urls)=5th.name='fetch-8', th.native_id=21657311, len(urls)=5\n",
      "\n",
      "th.name='fetch-9', th.native_id=21657312, len(urls)=5\n",
      "th.name='fetch-10', th.native_id=21657313, len(urls)=5\n",
      "th.name='fetch-11', th.native_id=21657314, len(urls)=5\n",
      "th.name='fetch-12', th.native_id=21657315, len(urls)=5\n",
      "th.name='fetch-13', th.native_id=21657316, len(urls)=5\n",
      "th.name='fetch-14', th.native_id=21657317, len(urls)=5\n",
      "th.name='fetch-15', th.native_id=21657318, len(urls)=5\n",
      "th.name='fetch-16', th.native_id=21657319, len(urls)=5\n",
      "th.name='fetch-17', th.native_id=21657320, len(urls)=5\n",
      "th.name='fetch-18', th.native_id=21657321, len(urls)=5\n",
      "th.name='fetch-19', th.native_id=21657322, len(urls)=5\n",
      "CPU times: user 12.7 ms, sys: 9.96 ms, total: 22.6 ms\n",
      "Wall time: 533 ms\n"
     ]
    }
   ],
   "source": [
    "%%time\n",
    "\n",
    "run_exp(20, 100)"
   ]
  },
  {
   "cell_type": "code",
   "execution_count": null,
   "id": "70334b16",
   "metadata": {},
   "outputs": [],
   "source": []
  },
  {
   "cell_type": "code",
   "execution_count": null,
   "id": "6d2d7005",
   "metadata": {},
   "outputs": [],
   "source": []
  },
  {
   "cell_type": "code",
   "execution_count": 65,
   "id": "30ab52c4",
   "metadata": {},
   "outputs": [
    {
     "name": "stdout",
     "output_type": "stream",
     "text": [
      "th.name='fetch-0', th.native_id=21657980, len(urls)=10\n",
      "th.name='fetch-1', th.native_id=21657981, len(urls)=10\n",
      "th.name='fetch-2', th.native_id=21657986, len(urls)=10\n",
      "th.name='fetch-3', th.native_id=21657988, len(urls)=10\n",
      "th.name='fetch-4', th.native_id=21657989, len(urls)=10\n",
      "th.name='fetch-5', th.native_id=21657994, len(urls)=10\n",
      "th.name='fetch-6', th.native_id=21657995, len(urls)=10\n",
      "th.name='fetch-7', th.native_id=21657996, len(urls)=10th.name='fetch-8', th.native_id=21657997, len(urls)=10\n",
      "\n",
      "th.name='fetch-9', th.native_id=21657998, len(urls)=10\n",
      "CPU times: user 973 ms, sys: 114 ms, total: 1.09 s\n",
      "Wall time: 2.09 s\n"
     ]
    }
   ],
   "source": [
    "%%time\n",
    "\n",
    "N = 100\n",
    "N_THREADS = 10\n",
    "SIZE = N // N_THREADS\n",
    "\n",
    "URL = \"https://ru.wikipedia.org/wiki/Python\"\n",
    "URLS = [URL] * N\n",
    "\n",
    "\n",
    "def fetch_url(url):\n",
    "    resp = urlopen(url)\n",
    "    return resp\n",
    "\n",
    "\n",
    "def fetch_batch_urls(urls):\n",
    "    th = threading.current_thread()\n",
    "    print(f\"{th.name=}, {th.native_id=}, {len(urls)=}\")\n",
    "\n",
    "    for url in urls:\n",
    "        fetch_url(url)\n",
    "\n",
    "\n",
    "def run_exp(n_threads, n):\n",
    "    size = n // n_threads\n",
    "    \n",
    "    threads = [\n",
    "        threading.Thread(\n",
    "            target=fetch_batch_urls,\n",
    "            name=f\"fetch-{i}\",\n",
    "            args=(URLS[i * size : (i + 1) * size],),\n",
    "        )\n",
    "        for i in range(n_threads)\n",
    "    ]\n",
    "\n",
    "    for th in threads:\n",
    "        th.start()\n",
    "\n",
    "    for th in threads:\n",
    "        th.join()\n",
    "        \n",
    "run_exp(N_THREADS, N)"
   ]
  },
  {
   "cell_type": "code",
   "execution_count": null,
   "id": "fd0b93c1",
   "metadata": {},
   "outputs": [],
   "source": []
  },
  {
   "cell_type": "code",
   "execution_count": null,
   "id": "0dbfc0e9",
   "metadata": {},
   "outputs": [],
   "source": []
  },
  {
   "cell_type": "code",
   "execution_count": 69,
   "id": "d8420179",
   "metadata": {},
   "outputs": [
    {
     "name": "stdout",
     "output_type": "stream",
     "text": [
      "[1000] True\n",
      "CPU times: user 310 µs, sys: 72 µs, total: 382 µs\n",
      "Wall time: 358 µs\n"
     ]
    }
   ],
   "source": [
    "%%time\n",
    "\n",
    "N = 1000\n",
    "counter = [0]\n",
    "\n",
    "\n",
    "def count_operations(a, b):\n",
    "    for i in range(a, b):\n",
    "        # actions\n",
    "        counter[0] += 1\n",
    "        \n",
    "\n",
    "count_operations(0, N)\n",
    "\n",
    "print(counter, counter[0] == N)"
   ]
  },
  {
   "cell_type": "code",
   "execution_count": 88,
   "id": "b370657e",
   "metadata": {},
   "outputs": [
    {
     "name": "stdout",
     "output_type": "stream",
     "text": [
      "[1000] True\n",
      "CPU times: user 30.9 ms, sys: 58.6 ms, total: 89.4 ms\n",
      "Wall time: 61.7 ms\n"
     ]
    }
   ],
   "source": [
    "%%time\n",
    "\n",
    "N = 1000\n",
    "N_THREADS = 100\n",
    "SIZE = N // N_THREADS\n",
    "\n",
    "counter = [0]\n",
    "lock = threading.Lock()\n",
    "\n",
    "\n",
    "def count_operations(a, b, lock):\n",
    "    for i in range(a, b):\n",
    "        # actions\n",
    "        lock.acquire()\n",
    "\n",
    "        cnt = counter[0]\n",
    "        cnt += 1\n",
    "        for _ in range(i):\n",
    "            pass\n",
    "        counter[0] = cnt\n",
    "        \n",
    "        lock.release()\n",
    "\n",
    "\n",
    "def run_exp(n_threads, n, lock):\n",
    "    size = n // n_threads\n",
    "    \n",
    "    threads = [\n",
    "        threading.Thread(\n",
    "            target=count_operations,\n",
    "            name=f\"count-{i}\",\n",
    "            args=(i * size, (i + 1) * size, lock),\n",
    "        )\n",
    "        for i in range(n_threads)\n",
    "    ]\n",
    "\n",
    "    for th in threads:\n",
    "        th.start()\n",
    "\n",
    "    for th in threads:\n",
    "        th.join()\n",
    "\n",
    "        \n",
    "run_exp(N_THREADS, N, lock)\n",
    "\n",
    "\n",
    "print(counter, counter[0] == N)"
   ]
  },
  {
   "cell_type": "code",
   "execution_count": 73,
   "id": "412f849d",
   "metadata": {},
   "outputs": [],
   "source": [
    "import sys"
   ]
  },
  {
   "cell_type": "code",
   "execution_count": 78,
   "id": "975d3f96",
   "metadata": {},
   "outputs": [
    {
     "data": {
      "text/plain": [
       "0.0"
      ]
     },
     "execution_count": 78,
     "metadata": {},
     "output_type": "execute_result"
    }
   ],
   "source": [
    "sys.getswitchinterval()"
   ]
  },
  {
   "cell_type": "code",
   "execution_count": 75,
   "id": "a4674b42",
   "metadata": {},
   "outputs": [],
   "source": [
    "sys.setswitchinterval(0.0000001)"
   ]
  },
  {
   "cell_type": "code",
   "execution_count": null,
   "id": "ac25053d",
   "metadata": {},
   "outputs": [],
   "source": []
  },
  {
   "cell_type": "code",
   "execution_count": 89,
   "id": "8db36f57",
   "metadata": {},
   "outputs": [
    {
     "name": "stdout",
     "output_type": "stream",
     "text": [
      "[1000] True\n",
      "CPU times: user 35.1 ms, sys: 74.4 ms, total: 110 ms\n",
      "Wall time: 54.9 ms\n"
     ]
    }
   ],
   "source": [
    "%%time\n",
    "\n",
    "N = 1000\n",
    "N_THREADS = 100\n",
    "SIZE = N // N_THREADS\n",
    "\n",
    "counter = [0]\n",
    "lock = threading.Lock()\n",
    "\n",
    "\n",
    "def count_operations(a, b, lock):\n",
    "    for i in range(a, b):\n",
    "        # actions\n",
    "        with lock:\n",
    "            cnt = counter[0]\n",
    "            cnt += 1\n",
    "            for _ in range(i):\n",
    "                pass\n",
    "            counter[0] = cnt\n",
    "\n",
    "\n",
    "def run_exp(n_threads, n, lock):\n",
    "    size = n // n_threads\n",
    "    \n",
    "    threads = [\n",
    "        threading.Thread(\n",
    "            target=count_operations,\n",
    "            name=f\"count-{i}\",\n",
    "            args=(i * size, (i + 1) * size, lock),\n",
    "        )\n",
    "        for i in range(n_threads)\n",
    "    ]\n",
    "\n",
    "    for th in threads:\n",
    "        th.start()\n",
    "\n",
    "    for th in threads:\n",
    "        th.join()\n",
    "\n",
    "        \n",
    "run_exp(N_THREADS, N, lock)\n",
    "\n",
    "\n",
    "print(counter, counter[0] == N)"
   ]
  },
  {
   "cell_type": "code",
   "execution_count": null,
   "id": "075af06b",
   "metadata": {},
   "outputs": [],
   "source": []
  },
  {
   "cell_type": "code",
   "execution_count": null,
   "id": "386f68b1",
   "metadata": {},
   "outputs": [],
   "source": []
  },
  {
   "cell_type": "code",
   "execution_count": 93,
   "id": "b9abe4ce",
   "metadata": {},
   "outputs": [
    {
     "name": "stdout",
     "output_type": "stream",
     "text": [
      "th.name='fetch-0', th.native_id=21689955, len(urls)=10th.name='fetch-1', th.native_id=21689956, len(urls)=10\n",
      "th.name='fetch-2', th.native_id=21689957, len(urls)=10th.name='fetch-3', th.native_id=21689958, len(urls)=10\n",
      "th.name='fetch-4', th.native_id=21689959, len(urls)=10\n",
      "\n",
      "\n",
      "th.name='fetch-5', th.native_id=21689960, len(urls)=10th.name='fetch-6', th.native_id=21689961, len(urls)=10th.name='fetch-7', th.native_id=21689962, len(urls)=10\n",
      "\n",
      "th.name='fetch-8', th.native_id=21689963, len(urls)=10th.name='fetch-9', th.native_id=21689967, len(urls)=10\n",
      "\n",
      "\n",
      "CPU times: user 1.03 s, sys: 764 ms, total: 1.8 s\n",
      "Wall time: 3.57 s\n"
     ]
    }
   ],
   "source": [
    "%%time\n",
    "\n",
    "N = 100\n",
    "N_THREADS = 10\n",
    "SIZE = N // N_THREADS\n",
    "\n",
    "URL = \"https://ru.wikipedia.org/wiki/Python\"\n",
    "URLS = [URL] * N\n",
    "\n",
    "sema = threading.Semaphore(5)\n",
    "\n",
    "\n",
    "def fetch_url(url, sema):\n",
    "    with sema:\n",
    "        resp = urlopen(url)\n",
    "    return resp\n",
    "\n",
    "\n",
    "def fetch_batch_urls(urls, sema):\n",
    "    th = threading.current_thread()\n",
    "    print(f\"{th.name=}, {th.native_id=}, {len(urls)=}\")\n",
    "\n",
    "    for url in urls:\n",
    "        fetch_url(url, sema)\n",
    "\n",
    "\n",
    "def run_exp(n_threads, n, sema):\n",
    "    size = n // n_threads\n",
    "    \n",
    "    threads = [\n",
    "        threading.Thread(\n",
    "            target=fetch_batch_urls,\n",
    "            name=f\"fetch-{i}\",\n",
    "            args=(URLS[i * size : (i + 1) * size], sema),\n",
    "        )\n",
    "        for i in range(n_threads)\n",
    "    ]\n",
    "\n",
    "    for th in threads:\n",
    "        th.start()\n",
    "\n",
    "    for th in threads:\n",
    "        th.join()\n",
    "\n",
    "\n",
    "run_exp(N_THREADS, N, sema)"
   ]
  },
  {
   "cell_type": "code",
   "execution_count": null,
   "id": "184ceb1f",
   "metadata": {},
   "outputs": [],
   "source": []
  },
  {
   "cell_type": "code",
   "execution_count": 94,
   "id": "5abf0a35",
   "metadata": {},
   "outputs": [],
   "source": [
    "from queue import Queue, LifoQueue, PriorityQueue"
   ]
  },
  {
   "cell_type": "code",
   "execution_count": 105,
   "id": "86f3145d",
   "metadata": {},
   "outputs": [
    {
     "name": "stdout",
     "output_type": "stream",
     "text": [
      "fetch-3 (_thread._ExceptHookArgs(exc_type=<class 'Exception'>, exc_value=Exception('WRONG!!!'), exc_traceback=<traceback object at 0x11366d900>, thread=<Thread(fetch-3, started 123145541009408)>),) {}\n",
      "STOP THREAD name='fetch-1'\n",
      "STOP THREAD name='fetch-4'\n",
      "STOP THREAD name='fetch-0'\n",
      "STOP THREAD name='fetch-2'\n",
      "global end\n",
      "CPU times: user 1.01 s, sys: 337 ms, total: 1.35 s\n",
      "Wall time: 4.72 s\n"
     ]
    }
   ],
   "source": [
    "%%time\n",
    "\n",
    "N = 100\n",
    "N_THREADS = 5\n",
    "SIZE = N // N_THREADS\n",
    "\n",
    "URL = \"https://ru.wikipedia.org/wiki/Python\"\n",
    "URLS = [URL] * N\n",
    "\n",
    "que = Queue(maxsize=100)\n",
    "\n",
    "\n",
    "def print_except(*args, **kwargs):\n",
    "    name = threading.current_thread().name\n",
    "    print(name, args, kwargs)\n",
    "\n",
    "\n",
    "threading.excepthook = print_except\n",
    "\n",
    "\n",
    "def fetch_url_worker(que):\n",
    "    while True:\n",
    "        url = que.get()\n",
    "        name = threading.current_thread().name\n",
    "        if name.endswith(\"-3\"):\n",
    "            raise Exception(\"WRONG!!!\")\n",
    "    \n",
    "        if url is None:\n",
    "            que.put(url)\n",
    "            print(f\"STOP THREAD {name=}\")\n",
    "            break\n",
    "\n",
    "        resp = urlopen(url)\n",
    "        # process(resp)\n",
    "\n",
    "\n",
    "def run_exp(n_threads, n, que):\n",
    "    size = n // n_threads\n",
    "    \n",
    "    threads = [\n",
    "        threading.Thread(\n",
    "            target=fetch_url_worker,\n",
    "            name=f\"fetch-{i}\",\n",
    "            args=(que,),\n",
    "        )\n",
    "        for i in range(n_threads)\n",
    "    ]\n",
    "\n",
    "    for th in threads:\n",
    "        th.start()\n",
    "        \n",
    "    for url in URLS:\n",
    "        que.put(url)\n",
    "    que.put(None)\n",
    "\n",
    "    for th in threads:\n",
    "        th.join()\n",
    "\n",
    "\n",
    "run_exp(N_THREADS, N, que)\n",
    "\n",
    "print(\"global end\")"
   ]
  },
  {
   "cell_type": "code",
   "execution_count": 106,
   "id": "f0d4f7ff",
   "metadata": {},
   "outputs": [
    {
     "data": {
      "text/plain": [
       "<_MainThread(MainThread, started 4526339584)>"
      ]
     },
     "execution_count": 106,
     "metadata": {},
     "output_type": "execute_result"
    }
   ],
   "source": [
    "threading.main_thread()"
   ]
  },
  {
   "cell_type": "code",
   "execution_count": null,
   "id": "9edaf11a",
   "metadata": {},
   "outputs": [],
   "source": []
  }
 ],
 "metadata": {
  "kernelspec": {
   "display_name": "Python 3 (ipykernel)",
   "language": "python",
   "name": "python3"
  },
  "language_info": {
   "codemirror_mode": {
    "name": "ipython",
    "version": 3
   },
   "file_extension": ".py",
   "mimetype": "text/x-python",
   "name": "python",
   "nbconvert_exporter": "python",
   "pygments_lexer": "ipython3",
   "version": "3.10.2"
  }
 },
 "nbformat": 4,
 "nbformat_minor": 5
}
