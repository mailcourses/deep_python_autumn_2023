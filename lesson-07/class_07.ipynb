{
 "cells": [
  {
   "cell_type": "code",
   "execution_count": 1,
   "id": "45b96106",
   "metadata": {},
   "outputs": [],
   "source": [
    "import asyncio\n",
    "import time"
   ]
  },
  {
   "cell_type": "code",
   "execution_count": 2,
   "id": "0568b0af",
   "metadata": {},
   "outputs": [],
   "source": [
    "async def countdown(n, name=\"xxx\"):\n",
    "    print(f\"start count {name=}, {n=}\")\n",
    "\n",
    "    for i in range(n):\n",
    "        print(f\"count {i + 1} of {n=}, {name=}\")\n",
    "\n",
    "        await asyncio.sleep(1)"
   ]
  },
  {
   "cell_type": "code",
   "execution_count": 4,
   "id": "2f12c86d",
   "metadata": {},
   "outputs": [
    {
     "name": "stdout",
     "output_type": "stream",
     "text": [
      "start count name='xxx', n=3\n",
      "count 1 of n=3, name='xxx'\n",
      "count 2 of n=3, name='xxx'\n",
      "count 3 of n=3, name='xxx'\n"
     ]
    }
   ],
   "source": [
    "await countdown(3)"
   ]
  },
  {
   "cell_type": "code",
   "execution_count": 5,
   "id": "e52baad8",
   "metadata": {},
   "outputs": [],
   "source": [
    "cn = countdown(3)"
   ]
  },
  {
   "cell_type": "code",
   "execution_count": 6,
   "id": "f14d68f5",
   "metadata": {},
   "outputs": [
    {
     "data": {
      "text/plain": [
       "<coroutine object countdown at 0x108ac1d20>"
      ]
     },
     "execution_count": 6,
     "metadata": {},
     "output_type": "execute_result"
    }
   ],
   "source": [
    "cn"
   ]
  },
  {
   "cell_type": "code",
   "execution_count": 7,
   "id": "09e55911",
   "metadata": {},
   "outputs": [
    {
     "name": "stdout",
     "output_type": "stream",
     "text": [
      "start count name='xxx', n=3\n",
      "count 1 of n=3, name='xxx'\n",
      "count 2 of n=3, name='xxx'\n",
      "count 3 of n=3, name='xxx'\n"
     ]
    }
   ],
   "source": [
    "await cn"
   ]
  },
  {
   "cell_type": "code",
   "execution_count": 8,
   "id": "5265b862",
   "metadata": {},
   "outputs": [],
   "source": [
    "async def dos_counts():\n",
    "    await countdown(3, \"xxx\")\n",
    "    await countdown(2, \"yyy\")"
   ]
  },
  {
   "cell_type": "code",
   "execution_count": 13,
   "id": "7598076e",
   "metadata": {},
   "outputs": [
    {
     "name": "stdout",
     "output_type": "stream",
     "text": [
      "start count name='xxx', n=3\n",
      "count 1 of n=3, name='xxx'\n",
      "count 2 of n=3, name='xxx'\n",
      "count 3 of n=3, name='xxx'\n",
      "start count name='yyy', n=2\n",
      "count 1 of n=2, name='yyy'\n",
      "count 2 of n=2, name='yyy'\n",
      "5.007022142410278\n"
     ]
    }
   ],
   "source": [
    "t1 = time.time()\n",
    "\n",
    "await dos_counts()\n",
    "\n",
    "t2 = time.time()\n",
    "print(t2 - t1)"
   ]
  },
  {
   "cell_type": "code",
   "execution_count": null,
   "id": "de5cbb1f",
   "metadata": {},
   "outputs": [],
   "source": []
  },
  {
   "cell_type": "code",
   "execution_count": 15,
   "id": "80b6394a",
   "metadata": {},
   "outputs": [
    {
     "name": "stdout",
     "output_type": "stream",
     "text": [
      "start count name='yyy', n=2\n",
      "count 1 of n=2, name='yyy'\n",
      "count 2 of n=2, name='yyy'\n",
      "start count name='xxx', n=3\n",
      "count 1 of n=3, name='xxx'\n",
      "count 2 of n=3, name='xxx'\n",
      "count 3 of n=3, name='xxx'\n",
      "5.031112909317017\n"
     ]
    }
   ],
   "source": [
    "async def dos_counts():\n",
    "    cn = countdown(3, \"xxx\")\n",
    "    await countdown(2, \"yyy\")\n",
    "    await cn\n",
    "\n",
    "\n",
    "t1 = time.time()\n",
    "\n",
    "await dos_counts()\n",
    "\n",
    "t2 = time.time()\n",
    "print(t2 - t1)"
   ]
  },
  {
   "cell_type": "code",
   "execution_count": 16,
   "id": "8b28ad99",
   "metadata": {},
   "outputs": [
    {
     "name": "stdout",
     "output_type": "stream",
     "text": [
      "start count name='yyy', n=2\n",
      "count 1 of n=2, name='yyy'\n",
      "start count name='xxx', n=3\n",
      "count 1 of n=3, name='xxx'\n",
      "count 2 of n=2, name='yyy'\n",
      "count 2 of n=3, name='xxx'\n",
      "count 3 of n=3, name='xxx'\n",
      "3.015185832977295\n"
     ]
    }
   ],
   "source": [
    "async def dos_counts():\n",
    "    cn = asyncio.create_task(countdown(3, \"xxx\"))\n",
    "    await countdown(2, \"yyy\")\n",
    "    await cn\n",
    "\n",
    "\n",
    "t1 = time.time()\n",
    "\n",
    "await dos_counts()\n",
    "\n",
    "t2 = time.time()\n",
    "print(t2 - t1)"
   ]
  },
  {
   "cell_type": "code",
   "execution_count": 3,
   "id": "2fb3b6a2",
   "metadata": {},
   "outputs": [
    {
     "name": "stdout",
     "output_type": "stream",
     "text": [
      "start count y\n",
      "start count name='xxx', n=3\n",
      "count 1 of n=3, name='xxx'\n",
      "after count 9999\n",
      "count 2 of n=3, name='xxx'\n",
      "count 3 of n=3, name='xxx'\n",
      "3.0055978298187256\n"
     ]
    }
   ],
   "source": [
    "async def dos_counts():\n",
    "    cn = asyncio.create_task(countdown(3, \"xxx\"))\n",
    "\n",
    "    y = 0\n",
    "    print(\"start count y\")\n",
    "    for x in range(10 ** 4):\n",
    "        await asyncio.sleep(0)\n",
    "        y =+ x\n",
    "    print(\"after count\", y)\n",
    "\n",
    "    await cn\n",
    "\n",
    "\n",
    "t1 = time.time()\n",
    "\n",
    "await dos_counts()\n",
    "\n",
    "t2 = time.time()\n",
    "print(t2 - t1)"
   ]
  },
  {
   "cell_type": "code",
   "execution_count": null,
   "id": "a182d104",
   "metadata": {},
   "outputs": [],
   "source": [
    "def func():\n",
    "    y = 0\n",
    "    print(\"start count y\")\n",
    "    for x in range(10 ** 7):\n",
    "        y =+ x\n",
    "    print(\"after count\", y)\n",
    "    \n",
    "    return y\n",
    "\n",
    "\n",
    "async def dos_counts():\n",
    "    cn = asyncio.create_task(countdown(3, \"xxx\"))\n",
    "\n",
    "    #th = Thread(target=func)\n",
    "    #fut = Future()\n",
    "    #fut.set_result(th.join)\n",
    "\n",
    "    await cn\n",
    "    await fut\n",
    "\n",
    "\n",
    "t1 = time.time()\n",
    "\n",
    "await dos_counts()\n",
    "\n",
    "t2 = time.time()\n",
    "print(t2 - t1)"
   ]
  },
  {
   "cell_type": "code",
   "execution_count": null,
   "id": "eb57060e",
   "metadata": {},
   "outputs": [],
   "source": []
  },
  {
   "cell_type": "code",
   "execution_count": 6,
   "id": "9033dc43",
   "metadata": {},
   "outputs": [
    {
     "name": "stdout",
     "output_type": "stream",
     "text": [
      "start count name='xxx', n=5\n",
      "count 1 of n=5, name='xxx'\n",
      "i=0\n",
      "count 2 of n=5, name='xxx'\n",
      "i=1\n",
      "count 3 of n=5, name='xxx'\n",
      "i=2\n",
      "count 4 of n=5, name='xxx'\n",
      "i=3\n",
      "count 5 of n=5, name='xxx'\n",
      "i=4\n"
     ]
    }
   ],
   "source": [
    "async def countdown_gen(n, name=\"xxx\"):\n",
    "    print(f\"start count {name=}, {n=}\")\n",
    "\n",
    "    for i in range(n):\n",
    "        print(f\"count {i + 1} of {n=}, {name=}\")\n",
    "        \n",
    "        yield i\n",
    "        await asyncio.sleep(1)\n",
    "        \n",
    "\n",
    "async for i in countdown_gen(5):\n",
    "    print(f\"{i=}\")"
   ]
  },
  {
   "cell_type": "code",
   "execution_count": null,
   "id": "1dc58369",
   "metadata": {},
   "outputs": [],
   "source": []
  },
  {
   "cell_type": "code",
   "execution_count": 7,
   "id": "cfd2fbe3",
   "metadata": {},
   "outputs": [
    {
     "name": "stdout",
     "output_type": "stream",
     "text": [
      "\u001b[01;31m\u001b[Kaiohttp\u001b[m\u001b[K==3.8.1\r\n"
     ]
    }
   ],
   "source": [
    "!pip freeze | grep aiohttp"
   ]
  },
  {
   "cell_type": "code",
   "execution_count": 8,
   "id": "06f9927f",
   "metadata": {},
   "outputs": [],
   "source": [
    "import aiohttp"
   ]
  },
  {
   "cell_type": "code",
   "execution_count": 12,
   "id": "9258cdc3",
   "metadata": {},
   "outputs": [
    {
     "name": "stdout",
     "output_type": "stream",
     "text": [
      "4.028199911117554\n"
     ]
    }
   ],
   "source": [
    "URL = \"https://docs.python.org/3/whatsnew/3.11.html\"\n",
    "URLS = [URL] * 20\n",
    "\n",
    "\n",
    "async def fetch_url(url):\n",
    "    async with aiohttp.ClientSession() as session:\n",
    "        async with session.get(url) as resp:\n",
    "            return resp.status\n",
    "            \n",
    "\n",
    "async def batch_fetch(urls):\n",
    "    for url in urls:\n",
    "        await fetch_url(url)\n",
    "        \n",
    "\n",
    "t1 = time.time()\n",
    "\n",
    "await batch_fetch(URLS)\n",
    "t2 = time.time()\n",
    "print(t2 - t1)"
   ]
  },
  {
   "cell_type": "code",
   "execution_count": 14,
   "id": "d04a0016",
   "metadata": {},
   "outputs": [
    {
     "name": "stdout",
     "output_type": "stream",
     "text": [
      "0.3334829807281494\n"
     ]
    }
   ],
   "source": [
    "URL = \"https://docs.python.org/3/whatsnew/3.11.html\"\n",
    "URLS = [URL] * 20\n",
    "\n",
    "\n",
    "async def fetch_url(url):\n",
    "    async with aiohttp.ClientSession() as session:\n",
    "        async with session.get(url) as resp:\n",
    "            return resp.status\n",
    "            \n",
    "\n",
    "async def batch_fetch(urls):\n",
    "    tasks = [\n",
    "        asyncio.create_task(fetch_url(url))\n",
    "        for url in urls\n",
    "    ]\n",
    "    await asyncio.gather(*tasks)\n",
    "\n",
    "\n",
    "t1 = time.time()\n",
    "\n",
    "await batch_fetch(URLS)\n",
    "t2 = time.time()\n",
    "print(t2 - t1)"
   ]
  },
  {
   "cell_type": "code",
   "execution_count": 16,
   "id": "1359f7d5",
   "metadata": {},
   "outputs": [
    {
     "name": "stdout",
     "output_type": "stream",
     "text": [
      "0.351442813873291\n"
     ]
    }
   ],
   "source": [
    "URL = \"https://docs.python.org/3/whatsnew/3.11.html\"\n",
    "URLS = [URL] * 20\n",
    "\n",
    "\n",
    "async def fetch_url(url):\n",
    "    async with aiohttp.ClientSession() as session:\n",
    "        async with session.get(url) as resp:\n",
    "            return resp.status\n",
    "            \n",
    "\n",
    "async def batch_fetch(urls):\n",
    "    tasks = [\n",
    "        fetch_url(url)\n",
    "        for url in urls\n",
    "    ]\n",
    "    await asyncio.gather(*tasks)\n",
    "\n",
    "\n",
    "t1 = time.time()\n",
    "\n",
    "await batch_fetch(URLS)\n",
    "t2 = time.time()\n",
    "print(t2 - t1)"
   ]
  },
  {
   "cell_type": "code",
   "execution_count": null,
   "id": "7212c356",
   "metadata": {},
   "outputs": [],
   "source": []
  }
 ],
 "metadata": {
  "kernelspec": {
   "display_name": "Python 3 (ipykernel)",
   "language": "python",
   "name": "python3"
  },
  "language_info": {
   "codemirror_mode": {
    "name": "ipython",
    "version": 3
   },
   "file_extension": ".py",
   "mimetype": "text/x-python",
   "name": "python",
   "nbconvert_exporter": "python",
   "pygments_lexer": "ipython3",
   "version": "3.10.2"
  }
 },
 "nbformat": 4,
 "nbformat_minor": 5
}
