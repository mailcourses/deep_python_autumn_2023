{
 "cells": [
  {
   "cell_type": "code",
   "execution_count": 1,
   "id": "39c0cc4a",
   "metadata": {},
   "outputs": [],
   "source": [
    "import sys"
   ]
  },
  {
   "cell_type": "code",
   "execution_count": 5,
   "id": "ef364d29",
   "metadata": {},
   "outputs": [
    {
     "data": {
      "text/plain": [
       "28"
      ]
     },
     "execution_count": 5,
     "metadata": {},
     "output_type": "execute_result"
    }
   ],
   "source": [
    "sys.getrefcount(\"import\")"
   ]
  },
  {
   "cell_type": "code",
   "execution_count": 6,
   "id": "9c8295b7",
   "metadata": {},
   "outputs": [
    {
     "data": {
      "text/plain": [
       "29"
      ]
     },
     "execution_count": 6,
     "metadata": {},
     "output_type": "execute_result"
    }
   ],
   "source": [
    "x = \"import\"\n",
    "sys.getrefcount(\"import\")"
   ]
  },
  {
   "cell_type": "code",
   "execution_count": 27,
   "id": "f574bac6",
   "metadata": {},
   "outputs": [
    {
     "data": {
      "text/plain": [
       "(2, 223, 3454, 5975, 7088)"
      ]
     },
     "execution_count": 27,
     "metadata": {},
     "output_type": "execute_result"
    }
   ],
   "source": [
    "sys.getrefcount(10 ** 10), sys.getrefcount(10), sys.getrefcount(1), sys.getrefcount(0), sys.getrefcount(True)"
   ]
  },
  {
   "cell_type": "code",
   "execution_count": 30,
   "id": "0a9eada8",
   "metadata": {},
   "outputs": [
    {
     "data": {
      "text/plain": [
       "(False, False)"
      ]
     },
     "execution_count": 30,
     "metadata": {},
     "output_type": "execute_result"
    }
   ],
   "source": [
    "x = 1\n",
    "y = 0\n",
    "x is True, y is False\n",
    "\n"
   ]
  },
  {
   "cell_type": "code",
   "execution_count": 11,
   "id": "c2d393f1",
   "metadata": {},
   "outputs": [
    {
     "data": {
      "text/plain": [
       "2"
      ]
     },
     "execution_count": 11,
     "metadata": {},
     "output_type": "execute_result"
    }
   ],
   "source": [
    "lst = [1, 2, 3]\n",
    "sys.getrefcount(lst)"
   ]
  },
  {
   "cell_type": "code",
   "execution_count": 12,
   "id": "482cdd40",
   "metadata": {},
   "outputs": [
    {
     "data": {
      "text/plain": [
       "2"
      ]
     },
     "execution_count": 12,
     "metadata": {},
     "output_type": "execute_result"
    }
   ],
   "source": [
    "sys.getrefcount(lst)"
   ]
  },
  {
   "cell_type": "code",
   "execution_count": 13,
   "id": "a2d6238c",
   "metadata": {},
   "outputs": [],
   "source": [
    "lst_2 = lst"
   ]
  },
  {
   "cell_type": "code",
   "execution_count": 14,
   "id": "d9c0a413",
   "metadata": {},
   "outputs": [
    {
     "data": {
      "text/plain": [
       "(3, 3)"
      ]
     },
     "execution_count": 14,
     "metadata": {},
     "output_type": "execute_result"
    }
   ],
   "source": [
    "sys.getrefcount(lst), sys.getrefcount(lst_2)"
   ]
  },
  {
   "cell_type": "code",
   "execution_count": 15,
   "id": "626ce9a6",
   "metadata": {},
   "outputs": [],
   "source": [
    "lst_3 = lst_2"
   ]
  },
  {
   "cell_type": "code",
   "execution_count": 16,
   "id": "7bd191c5",
   "metadata": {},
   "outputs": [
    {
     "data": {
      "text/plain": [
       "(4, 4, 4)"
      ]
     },
     "execution_count": 16,
     "metadata": {},
     "output_type": "execute_result"
    }
   ],
   "source": [
    "sys.getrefcount(lst), sys.getrefcount(lst_2), sys.getrefcount(lst_3)"
   ]
  },
  {
   "cell_type": "code",
   "execution_count": 17,
   "id": "52012c1c",
   "metadata": {},
   "outputs": [],
   "source": [
    "del lst_2"
   ]
  },
  {
   "cell_type": "code",
   "execution_count": 18,
   "id": "6d496fd3",
   "metadata": {},
   "outputs": [
    {
     "data": {
      "text/plain": [
       "(3, 3)"
      ]
     },
     "execution_count": 18,
     "metadata": {},
     "output_type": "execute_result"
    }
   ],
   "source": [
    "sys.getrefcount(lst), sys.getrefcount(lst_3)"
   ]
  },
  {
   "cell_type": "code",
   "execution_count": 19,
   "id": "08272e48",
   "metadata": {},
   "outputs": [
    {
     "data": {
      "text/plain": [
       "True"
      ]
     },
     "execution_count": 19,
     "metadata": {},
     "output_type": "execute_result"
    }
   ],
   "source": [
    "lst is lst_3"
   ]
  },
  {
   "cell_type": "code",
   "execution_count": 20,
   "id": "77ac658b",
   "metadata": {},
   "outputs": [],
   "source": [
    "del lst"
   ]
  },
  {
   "cell_type": "code",
   "execution_count": 21,
   "id": "55393802",
   "metadata": {},
   "outputs": [
    {
     "data": {
      "text/plain": [
       "2"
      ]
     },
     "execution_count": 21,
     "metadata": {},
     "output_type": "execute_result"
    }
   ],
   "source": [
    "sys.getrefcount(lst_3)"
   ]
  },
  {
   "cell_type": "code",
   "execution_count": 24,
   "id": "5c239f21",
   "metadata": {},
   "outputs": [],
   "source": [
    "def func(obj):\n",
    "    print(f\"{sys.getrefcount(obj)=}\")"
   ]
  },
  {
   "cell_type": "code",
   "execution_count": 25,
   "id": "cf105cdb",
   "metadata": {},
   "outputs": [
    {
     "name": "stdout",
     "output_type": "stream",
     "text": [
      "sys.getrefcount(obj)=4\n"
     ]
    }
   ],
   "source": [
    "func(lst_3)"
   ]
  },
  {
   "cell_type": "code",
   "execution_count": 26,
   "id": "ea439cd3",
   "metadata": {},
   "outputs": [
    {
     "data": {
      "text/plain": [
       "2"
      ]
     },
     "execution_count": 26,
     "metadata": {},
     "output_type": "execute_result"
    }
   ],
   "source": [
    "sys.getrefcount(lst_3)"
   ]
  },
  {
   "cell_type": "code",
   "execution_count": 31,
   "id": "9aef1887",
   "metadata": {},
   "outputs": [],
   "source": [
    "class Car:\n",
    "    def __init__(self):\n",
    "        pass\n",
    "    \n",
    "    def __del__(self):\n",
    "        print(\"del Car\", id(self))"
   ]
  },
  {
   "cell_type": "code",
   "execution_count": 32,
   "id": "d2ca3f50",
   "metadata": {},
   "outputs": [],
   "source": [
    "lada = Car()"
   ]
  },
  {
   "cell_type": "code",
   "execution_count": 34,
   "id": "98487a57",
   "metadata": {},
   "outputs": [
    {
     "data": {
      "text/plain": [
       "6"
      ]
     },
     "execution_count": 34,
     "metadata": {},
     "output_type": "execute_result"
    }
   ],
   "source": [
    "sys.getrefcount(lada)"
   ]
  },
  {
   "cell_type": "code",
   "execution_count": 44,
   "id": "02e5e12e",
   "metadata": {},
   "outputs": [
    {
     "name": "stdout",
     "output_type": "stream",
     "text": [
      "2\n",
      "del Car 4383566592\n",
      "3\n",
      "2\n",
      "del Car 4385974464\n"
     ]
    },
    {
     "ename": "NameError",
     "evalue": "name 'lada2' is not defined",
     "output_type": "error",
     "traceback": [
      "\u001b[0;31m---------------------------------------------------------------------------\u001b[0m",
      "\u001b[0;31mNameError\u001b[0m                                 Traceback (most recent call last)",
      "Input \u001b[0;32mIn [44]\u001b[0m, in \u001b[0;36m<cell line: 20>\u001b[0;34m()\u001b[0m\n\u001b[1;32m     17\u001b[0m \u001b[38;5;28mprint\u001b[39m(sys\u001b[38;5;241m.\u001b[39mgetrefcount(lada2))\n\u001b[1;32m     19\u001b[0m \u001b[38;5;28;01mdel\u001b[39;00m lada2\n\u001b[0;32m---> 20\u001b[0m \u001b[38;5;28mprint\u001b[39m(sys\u001b[38;5;241m.\u001b[39mgetrefcount(\u001b[43mlada2\u001b[49m))\n",
      "\u001b[0;31mNameError\u001b[0m: name 'lada2' is not defined"
     ]
    }
   ],
   "source": [
    "class Car:\n",
    "    def __init__(self):\n",
    "        pass\n",
    "    \n",
    "    def __del__(self):\n",
    "        print(\"del Car\", id(self))\n",
    "\n",
    "\n",
    "lada = Car()\n",
    "print(sys.getrefcount(lada))\n",
    "\n",
    "lada2 = lada\n",
    "\n",
    "print(sys.getrefcount(lada))\n",
    "\n",
    "del lada\n",
    "print(sys.getrefcount(lada2))\n",
    "\n",
    "del lada2"
   ]
  },
  {
   "cell_type": "code",
   "execution_count": 37,
   "id": "85318fd5",
   "metadata": {},
   "outputs": [
    {
     "data": {
      "text/plain": [
       "<__main__.Car at 0x10547fb80>"
      ]
     },
     "execution_count": 37,
     "metadata": {},
     "output_type": "execute_result"
    }
   ],
   "source": [
    "lada"
   ]
  },
  {
   "cell_type": "code",
   "execution_count": 38,
   "id": "8be201bf",
   "metadata": {},
   "outputs": [
    {
     "data": {
      "text/plain": [
       "9"
      ]
     },
     "execution_count": 38,
     "metadata": {},
     "output_type": "execute_result"
    }
   ],
   "source": [
    "sys.getrefcount(lada)"
   ]
  },
  {
   "cell_type": "code",
   "execution_count": 42,
   "id": "d7b09b28",
   "metadata": {},
   "outputs": [
    {
     "ename": "NameError",
     "evalue": "name 'xxxx' is not defined",
     "output_type": "error",
     "traceback": [
      "\u001b[0;31m---------------------------------------------------------------------------\u001b[0m",
      "\u001b[0;31mNameError\u001b[0m                                 Traceback (most recent call last)",
      "Input \u001b[0;32mIn [42]\u001b[0m, in \u001b[0;36m<cell line: 1>\u001b[0;34m()\u001b[0m\n\u001b[0;32m----> 1\u001b[0m lada \u001b[38;5;241m=\u001b[39m \u001b[43mxxxx\u001b[49m\n",
      "\u001b[0;31mNameError\u001b[0m: name 'xxxx' is not defined"
     ]
    }
   ],
   "source": [
    "lada = xxxx\n",
    "lada = yyyy"
   ]
  },
  {
   "cell_type": "code",
   "execution_count": 46,
   "id": "ef56d577",
   "metadata": {},
   "outputs": [
    {
     "name": "stdout",
     "output_type": "stream",
     "text": [
      "2\n",
      "3\n",
      "2\n",
      "del Car2 4385557904\n"
     ]
    }
   ],
   "source": [
    "class Car2:\n",
    "    def __init__(self):\n",
    "        pass\n",
    "    \n",
    "    def __del__(self):\n",
    "        print(\"del Car2\", id(self))\n",
    "\n",
    "\n",
    "merin = Car2()\n",
    "print(sys.getrefcount(merin))\n",
    "\n",
    "merin2 = merin\n",
    "\n",
    "print(sys.getrefcount(merin))\n",
    "\n",
    "del merin\n",
    "print(sys.getrefcount(merin2))\n",
    "\n",
    "del merin2"
   ]
  },
  {
   "cell_type": "code",
   "execution_count": null,
   "id": "3cc2d278",
   "metadata": {},
   "outputs": [],
   "source": []
  },
  {
   "cell_type": "code",
   "execution_count": null,
   "id": "0c86b547",
   "metadata": {},
   "outputs": [],
   "source": []
  },
  {
   "cell_type": "code",
   "execution_count": 61,
   "id": "01eacefb",
   "metadata": {},
   "outputs": [
    {
     "name": "stdout",
     "output_type": "stream",
     "text": [
      "3 3 4384541952 4384542048\n",
      "1 1\n",
      "del Car3 4384541952\n",
      "del Car3 4384542048\n",
      "0 0\n"
     ]
    }
   ],
   "source": [
    "class Car3:\n",
    "    def __init__(self, link=None):\n",
    "        self.link = link\n",
    "    \n",
    "    def __del__(self):\n",
    "        print(\"del Car3\", id(self))\n",
    "\n",
    "\n",
    "bmw = Car3()\n",
    "niva = Car3(bmw)\n",
    "bmw.link = niva\n",
    "\n",
    "id_bmw = id(bmw)\n",
    "id_niva = id(niva)\n",
    "\n",
    "print(sys.getrefcount(bmw), sys.getrefcount(niva), id(bmw), id(niva))\n",
    "\n",
    "del bmw\n",
    "del niva\n",
    "\n",
    "print(PyObject.from_address(id_bmw).refcnt, PyObject.from_address(id_niva).refcnt)\n",
    "gc.collect()\n",
    "\n",
    "print(PyObject.from_address(id_bmw).refcnt, PyObject.from_address(id_niva).refcnt)"
   ]
  },
  {
   "cell_type": "code",
   "execution_count": 48,
   "id": "5bb8bd50",
   "metadata": {},
   "outputs": [],
   "source": [
    "import ctypes"
   ]
  },
  {
   "cell_type": "code",
   "execution_count": 49,
   "id": "83612cc6",
   "metadata": {},
   "outputs": [],
   "source": [
    "class PyObject(ctypes.Structure):\n",
    "    _fields_ = [(\"refcnt\", ctypes.c_long)]"
   ]
  },
  {
   "cell_type": "code",
   "execution_count": 53,
   "id": "7b9bf3e0",
   "metadata": {},
   "outputs": [
    {
     "data": {
      "text/plain": [
       "327680"
      ]
     },
     "execution_count": 53,
     "metadata": {},
     "output_type": "execute_result"
    }
   ],
   "source": [
    "PyObject.from_address(4385772096).refcnt"
   ]
  },
  {
   "cell_type": "code",
   "execution_count": 54,
   "id": "f7e3e0c8",
   "metadata": {},
   "outputs": [
    {
     "data": {
      "text/plain": [
       "1"
      ]
     },
     "execution_count": 54,
     "metadata": {},
     "output_type": "execute_result"
    }
   ],
   "source": [
    "lst = [1, 2, 3]\n",
    "PyObject.from_address(id(lst)).refcnt"
   ]
  },
  {
   "cell_type": "code",
   "execution_count": 56,
   "id": "c0edb90e",
   "metadata": {},
   "outputs": [],
   "source": [
    "import gc"
   ]
  },
  {
   "cell_type": "code",
   "execution_count": 62,
   "id": "68577c81",
   "metadata": {},
   "outputs": [],
   "source": [
    "import weakref"
   ]
  },
  {
   "cell_type": "code",
   "execution_count": 63,
   "id": "5c34ef49",
   "metadata": {},
   "outputs": [],
   "source": [
    "opel = Car3()\n",
    "wr_opel = weakref.ref(opel)"
   ]
  },
  {
   "cell_type": "code",
   "execution_count": 66,
   "id": "7d8e08a5",
   "metadata": {},
   "outputs": [],
   "source": [
    "opel2 = wr_opel()"
   ]
  },
  {
   "cell_type": "code",
   "execution_count": 67,
   "id": "5ec1c1ce",
   "metadata": {},
   "outputs": [
    {
     "data": {
      "text/plain": [
       "<__main__.Car3 at 0x105649ae0>"
      ]
     },
     "execution_count": 67,
     "metadata": {},
     "output_type": "execute_result"
    }
   ],
   "source": [
    "opel2"
   ]
  },
  {
   "cell_type": "code",
   "execution_count": 68,
   "id": "4add21db",
   "metadata": {},
   "outputs": [
    {
     "data": {
      "text/plain": [
       "True"
      ]
     },
     "execution_count": 68,
     "metadata": {},
     "output_type": "execute_result"
    }
   ],
   "source": [
    "opel2 is opel"
   ]
  },
  {
   "cell_type": "code",
   "execution_count": 69,
   "id": "b801363b",
   "metadata": {},
   "outputs": [],
   "source": [
    "opel2.link"
   ]
  },
  {
   "cell_type": "code",
   "execution_count": 70,
   "id": "979ef47b",
   "metadata": {},
   "outputs": [],
   "source": [
    "del opel, opel2"
   ]
  },
  {
   "cell_type": "code",
   "execution_count": 71,
   "id": "8d567748",
   "metadata": {},
   "outputs": [
    {
     "name": "stdout",
     "output_type": "stream",
     "text": [
      "2\n",
      "2\n",
      "3\n"
     ]
    }
   ],
   "source": [
    "opel = Car3()\n",
    "print(sys.getrefcount(opel))\n",
    "\n",
    "wr_opel = weakref.ref(opel)\n",
    "print(sys.getrefcount(opel))\n",
    "\n",
    "opel2 = wr_opel()\n",
    "print(sys.getrefcount(opel))"
   ]
  },
  {
   "cell_type": "code",
   "execution_count": 72,
   "id": "fbdd911c",
   "metadata": {},
   "outputs": [
    {
     "name": "stdout",
     "output_type": "stream",
     "text": [
      "del Car3 4385485056\n"
     ]
    }
   ],
   "source": [
    "del opel, opel2"
   ]
  },
  {
   "cell_type": "code",
   "execution_count": 73,
   "id": "10db7b0c",
   "metadata": {},
   "outputs": [
    {
     "name": "stdout",
     "output_type": "stream",
     "text": [
      "2\n",
      "2\n",
      "del Car3 4385473296\n",
      "None\n"
     ]
    }
   ],
   "source": [
    "opel = Car3()\n",
    "print(sys.getrefcount(opel))\n",
    "\n",
    "wr_opel = weakref.ref(opel)\n",
    "print(sys.getrefcount(opel))\n",
    "\n",
    "del opel\n",
    "\n",
    "opel2 = wr_opel()\n",
    "print(opel2)"
   ]
  },
  {
   "cell_type": "code",
   "execution_count": 78,
   "id": "ec54d08a",
   "metadata": {},
   "outputs": [
    {
     "name": "stdout",
     "output_type": "stream",
     "text": [
      "2 2 4380533104 4385534448\n",
      "del Car4 4380533104\n",
      "final bmw\n",
      "del Car4 4385534448\n"
     ]
    }
   ],
   "source": [
    "class Car4:\n",
    "    def __init__(self, link=None):\n",
    "        self.link = weakref.ref(link) if link is not None else link\n",
    "    \n",
    "    def __del__(self):\n",
    "        print(\"del Car4\", id(self))\n",
    "\n",
    "\n",
    "bmw = Car4()\n",
    "niva = Car4(bmw)\n",
    "bmw.link = weakref.ref(niva)\n",
    "\n",
    "id_bmw = id(bmw)\n",
    "id_niva = id(niva)\n",
    "\n",
    "weakref.finalize(bmw, lambda: print(\"final bmw\"))\n",
    "\n",
    "print(sys.getrefcount(bmw), sys.getrefcount(niva), id(bmw), id(niva))\n",
    "\n",
    "del bmw\n",
    "del niva"
   ]
  },
  {
   "cell_type": "code",
   "execution_count": 77,
   "id": "df1cde1b",
   "metadata": {},
   "outputs": [],
   "source": [
    "weakref.finalize?"
   ]
  },
  {
   "cell_type": "code",
   "execution_count": null,
   "id": "a26f4086",
   "metadata": {},
   "outputs": [],
   "source": []
  },
  {
   "cell_type": "code",
   "execution_count": null,
   "id": "24abc96a",
   "metadata": {},
   "outputs": [],
   "source": []
  },
  {
   "cell_type": "code",
   "execution_count": 79,
   "id": "6b424cb1",
   "metadata": {},
   "outputs": [],
   "source": [
    "class Point:\n",
    "    def __init__(self, x, y):\n",
    "        self.x = x\n",
    "        self.y = y\n",
    "\n",
    "\n",
    "class PointSlot:\n",
    "    __slots__ = (\"x\", \"y\")\n",
    "\n",
    "    def __init__(self, x, y):\n",
    "        self.x = x\n",
    "        self.y = y"
   ]
  },
  {
   "cell_type": "code",
   "execution_count": 86,
   "id": "4d558325",
   "metadata": {},
   "outputs": [],
   "source": [
    "p = Point(10, 20)\n",
    "s = PointSlot(30, 40)"
   ]
  },
  {
   "cell_type": "code",
   "execution_count": 82,
   "id": "65e73465",
   "metadata": {},
   "outputs": [
    {
     "data": {
      "text/plain": [
       "{'x': 10, 'y': 20}"
      ]
     },
     "execution_count": 82,
     "metadata": {},
     "output_type": "execute_result"
    }
   ],
   "source": [
    "p.__dict__"
   ]
  },
  {
   "cell_type": "code",
   "execution_count": 83,
   "id": "3d873054",
   "metadata": {},
   "outputs": [
    {
     "ename": "AttributeError",
     "evalue": "'PointSlot' object has no attribute '__dict__'",
     "output_type": "error",
     "traceback": [
      "\u001b[0;31m---------------------------------------------------------------------------\u001b[0m",
      "\u001b[0;31mAttributeError\u001b[0m                            Traceback (most recent call last)",
      "Input \u001b[0;32mIn [83]\u001b[0m, in \u001b[0;36m<cell line: 1>\u001b[0;34m()\u001b[0m\n\u001b[0;32m----> 1\u001b[0m \u001b[43ms\u001b[49m\u001b[38;5;241;43m.\u001b[39;49m\u001b[38;5;18;43m__dict__\u001b[39;49m\n",
      "\u001b[0;31mAttributeError\u001b[0m: 'PointSlot' object has no attribute '__dict__'"
     ]
    }
   ],
   "source": [
    "s.__dict__"
   ]
  },
  {
   "cell_type": "code",
   "execution_count": 87,
   "id": "ffe23c38",
   "metadata": {},
   "outputs": [
    {
     "data": {
      "text/plain": [
       "(10, 20, 30, 40)"
      ]
     },
     "execution_count": 87,
     "metadata": {},
     "output_type": "execute_result"
    }
   ],
   "source": [
    "p.x, p.y, s.x, s.y"
   ]
  },
  {
   "cell_type": "code",
   "execution_count": 88,
   "id": "f452fa42",
   "metadata": {},
   "outputs": [],
   "source": [
    "p.z = 99"
   ]
  },
  {
   "cell_type": "code",
   "execution_count": 89,
   "id": "f7ce3cd9",
   "metadata": {},
   "outputs": [
    {
     "data": {
      "text/plain": [
       "({'x': 10, 'y': 20, 'z': 99}, 99)"
      ]
     },
     "execution_count": 89,
     "metadata": {},
     "output_type": "execute_result"
    }
   ],
   "source": [
    "p.__dict__, p.z"
   ]
  },
  {
   "cell_type": "code",
   "execution_count": 90,
   "id": "80612f94",
   "metadata": {},
   "outputs": [
    {
     "ename": "AttributeError",
     "evalue": "'PointSlot' object has no attribute 'z'",
     "output_type": "error",
     "traceback": [
      "\u001b[0;31m---------------------------------------------------------------------------\u001b[0m",
      "\u001b[0;31mAttributeError\u001b[0m                            Traceback (most recent call last)",
      "Input \u001b[0;32mIn [90]\u001b[0m, in \u001b[0;36m<cell line: 1>\u001b[0;34m()\u001b[0m\n\u001b[0;32m----> 1\u001b[0m s\u001b[38;5;241m.\u001b[39mz \u001b[38;5;241m=\u001b[39m \u001b[38;5;241m99\u001b[39m\n",
      "\u001b[0;31mAttributeError\u001b[0m: 'PointSlot' object has no attribute 'z'"
     ]
    }
   ],
   "source": [
    "s.z = 99"
   ]
  },
  {
   "cell_type": "code",
   "execution_count": 92,
   "id": "4108e634",
   "metadata": {},
   "outputs": [
    {
     "data": {
      "text/plain": [
       "(42, [])"
      ]
     },
     "execution_count": 92,
     "metadata": {},
     "output_type": "execute_result"
    }
   ],
   "source": [
    "s.x = 42\n",
    "s.y = []\n",
    "s.x, s.y"
   ]
  },
  {
   "cell_type": "code",
   "execution_count": 93,
   "id": "8dd6ee83",
   "metadata": {},
   "outputs": [
    {
     "data": {
      "text/plain": [
       "mappingproxy({'__module__': '__main__',\n",
       "              '__init__': <function __main__.Point.__init__(self, x, y)>,\n",
       "              '__dict__': <attribute '__dict__' of 'Point' objects>,\n",
       "              '__weakref__': <attribute '__weakref__' of 'Point' objects>,\n",
       "              '__doc__': None})"
      ]
     },
     "execution_count": 93,
     "metadata": {},
     "output_type": "execute_result"
    }
   ],
   "source": [
    "Point.__dict__"
   ]
  },
  {
   "cell_type": "code",
   "execution_count": 94,
   "id": "0c28eaf9",
   "metadata": {},
   "outputs": [
    {
     "data": {
      "text/plain": [
       "mappingproxy({'__module__': '__main__',\n",
       "              '__slots__': ('x', 'y'),\n",
       "              '__init__': <function __main__.PointSlot.__init__(self, x, y)>,\n",
       "              'x': <member 'x' of 'PointSlot' objects>,\n",
       "              'y': <member 'y' of 'PointSlot' objects>,\n",
       "              '__doc__': None})"
      ]
     },
     "execution_count": 94,
     "metadata": {},
     "output_type": "execute_result"
    }
   ],
   "source": [
    "PointSlot.__dict__"
   ]
  },
  {
   "cell_type": "code",
   "execution_count": 97,
   "id": "b631dbab",
   "metadata": {},
   "outputs": [
    {
     "data": {
      "text/plain": [
       "(64, 232)"
      ]
     },
     "execution_count": 97,
     "metadata": {},
     "output_type": "execute_result"
    }
   ],
   "source": [
    "sys.getsizeof({}), sys.getsizeof({1: \"0\" * 1000000})"
   ]
  },
  {
   "cell_type": "code",
   "execution_count": 98,
   "id": "43305290",
   "metadata": {},
   "outputs": [
    {
     "name": "stdout",
     "output_type": "stream",
     "text": [
      "len(d)=1, sys.getsizeof(d)=232\n",
      "len(d)=2, sys.getsizeof(d)=232\n",
      "len(d)=3, sys.getsizeof(d)=232\n",
      "len(d)=4, sys.getsizeof(d)=232\n",
      "len(d)=5, sys.getsizeof(d)=232\n",
      "len(d)=6, sys.getsizeof(d)=360\n",
      "len(d)=7, sys.getsizeof(d)=360\n",
      "len(d)=8, sys.getsizeof(d)=360\n"
     ]
    }
   ],
   "source": [
    "d = {}\n",
    "\n",
    "for i in range(8):\n",
    "    d[i] = i\n",
    "    print(f\"{len(d)=}, {sys.getsizeof(d)=}\")"
   ]
  },
  {
   "cell_type": "code",
   "execution_count": null,
   "id": "32d993e9",
   "metadata": {},
   "outputs": [],
   "source": []
  },
  {
   "cell_type": "code",
   "execution_count": 102,
   "id": "251290c7",
   "metadata": {},
   "outputs": [
    {
     "name": "stdout",
     "output_type": "stream",
     "text": [
      "CPU times: user 893 ms, sys: 84.2 ms, total: 977 ms\n",
      "Wall time: 1.14 s\n"
     ]
    }
   ],
   "source": [
    "%%time\n",
    "\n",
    "N = 10 ** 6\n",
    "\n",
    "points = [Point(10, 20) for _ in range(N)]"
   ]
  },
  {
   "cell_type": "code",
   "execution_count": 107,
   "id": "0b84ff36",
   "metadata": {},
   "outputs": [
    {
     "name": "stdout",
     "output_type": "stream",
     "text": [
      "CPU times: user 1.11 s, sys: 85.5 ms, total: 1.19 s\n",
      "Wall time: 1.37 s\n"
     ]
    }
   ],
   "source": [
    "%%time\n",
    "\n",
    "N = 10 ** 6\n",
    "\n",
    "points = [Point(10, 20) for _ in range(N)]\n",
    "\n",
    "for p in points:\n",
    "    p.x, p.y = p.y, p.x"
   ]
  },
  {
   "cell_type": "code",
   "execution_count": 104,
   "id": "7c8f0eb5",
   "metadata": {},
   "outputs": [
    {
     "name": "stdout",
     "output_type": "stream",
     "text": [
      "CPU times: user 844 ms, sys: 52.3 ms, total: 896 ms\n",
      "Wall time: 1.05 s\n"
     ]
    }
   ],
   "source": [
    "%%time\n",
    "\n",
    "N = 10 ** 6\n",
    "\n",
    "points = [PointSlot(10, 20) for _ in range(N)]\n"
   ]
  },
  {
   "cell_type": "code",
   "execution_count": 106,
   "id": "7b0c3a8e",
   "metadata": {},
   "outputs": [
    {
     "name": "stdout",
     "output_type": "stream",
     "text": [
      "CPU times: user 1.08 s, sys: 48.5 ms, total: 1.13 s\n",
      "Wall time: 1.29 s\n"
     ]
    }
   ],
   "source": [
    "%%time\n",
    "\n",
    "N = 10 ** 6\n",
    "\n",
    "points = [PointSlot(10, 20) for _ in range(N)]\n",
    "\n",
    "for p in points:\n",
    "    p.x, p.y = p.y, p.x"
   ]
  },
  {
   "cell_type": "code",
   "execution_count": 108,
   "id": "775b07c6",
   "metadata": {},
   "outputs": [],
   "source": [
    "import tracemalloc"
   ]
  },
  {
   "cell_type": "code",
   "execution_count": 109,
   "id": "d54a8c0c",
   "metadata": {},
   "outputs": [],
   "source": []
  },
  {
   "cell_type": "code",
   "execution_count": null,
   "id": "940164f3",
   "metadata": {},
   "outputs": [],
   "source": []
  }
 ],
 "metadata": {
  "kernelspec": {
   "display_name": "Python 3 (ipykernel)",
   "language": "python",
   "name": "python3"
  },
  "language_info": {
   "codemirror_mode": {
    "name": "ipython",
    "version": 3
   },
   "file_extension": ".py",
   "mimetype": "text/x-python",
   "name": "python",
   "nbconvert_exporter": "python",
   "pygments_lexer": "ipython3",
   "version": "3.10.2"
  }
 },
 "nbformat": 4,
 "nbformat_minor": 5
}
