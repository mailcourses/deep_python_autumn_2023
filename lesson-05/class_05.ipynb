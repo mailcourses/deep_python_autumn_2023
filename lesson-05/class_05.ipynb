{
 "cells": [
  {
   "cell_type": "code",
   "execution_count": 2,
   "id": "326d3618",
   "metadata": {},
   "outputs": [
    {
     "data": {
      "text/plain": [
       "0.1"
      ]
     },
     "execution_count": 2,
     "metadata": {},
     "output_type": "execute_result"
    }
   ],
   "source": [
    "0.1"
   ]
  },
  {
   "cell_type": "code",
   "execution_count": 3,
   "id": "cbd74bce",
   "metadata": {},
   "outputs": [
    {
     "data": {
      "text/plain": [
       "0.30000000000000004"
      ]
     },
     "execution_count": 3,
     "metadata": {},
     "output_type": "execute_result"
    }
   ],
   "source": [
    "0.1 + 0.2"
   ]
  },
  {
   "cell_type": "code",
   "execution_count": 4,
   "id": "7f3b28ae",
   "metadata": {},
   "outputs": [
    {
     "data": {
      "text/plain": [
       "False"
      ]
     },
     "execution_count": 4,
     "metadata": {},
     "output_type": "execute_result"
    }
   ],
   "source": [
    "0.1 + 0.2 == 0.3"
   ]
  },
  {
   "cell_type": "code",
   "execution_count": 5,
   "id": "934a929b",
   "metadata": {},
   "outputs": [],
   "source": [
    "import math"
   ]
  },
  {
   "cell_type": "code",
   "execution_count": 6,
   "id": "79da7727",
   "metadata": {},
   "outputs": [
    {
     "data": {
      "text/plain": [
       "True"
      ]
     },
     "execution_count": 6,
     "metadata": {},
     "output_type": "execute_result"
    }
   ],
   "source": [
    "math.isclose(0.1 + 0.2, 0.3)"
   ]
  },
  {
   "cell_type": "code",
   "execution_count": 7,
   "id": "b8622466",
   "metadata": {},
   "outputs": [],
   "source": [
    "math.isclose?"
   ]
  },
  {
   "cell_type": "code",
   "execution_count": 8,
   "id": "b6f92298",
   "metadata": {},
   "outputs": [],
   "source": [
    "from fractions import Fraction"
   ]
  },
  {
   "cell_type": "code",
   "execution_count": 9,
   "id": "f79e1722",
   "metadata": {},
   "outputs": [],
   "source": [
    "from decimal import Decimal"
   ]
  },
  {
   "cell_type": "code",
   "execution_count": 11,
   "id": "274b00a1",
   "metadata": {},
   "outputs": [
    {
     "data": {
      "text/plain": [
       "True"
      ]
     },
     "execution_count": 11,
     "metadata": {},
     "output_type": "execute_result"
    }
   ],
   "source": [
    "d1 = Decimal(\"0.111\")\n",
    "d2 = Decimal(\"0.2222\")\n",
    "\n",
    "Decimal(\"0.3332\") == d1 + d2"
   ]
  },
  {
   "cell_type": "code",
   "execution_count": 12,
   "id": "0698f7a3",
   "metadata": {},
   "outputs": [
    {
     "data": {
      "text/plain": [
       "True"
      ]
     },
     "execution_count": 12,
     "metadata": {},
     "output_type": "execute_result"
    }
   ],
   "source": [
    "0.111 + 0.2222 == 0.3332"
   ]
  },
  {
   "cell_type": "code",
   "execution_count": 13,
   "id": "be9332ef",
   "metadata": {},
   "outputs": [
    {
     "data": {
      "text/plain": [
       "True"
      ]
     },
     "execution_count": 13,
     "metadata": {},
     "output_type": "execute_result"
    }
   ],
   "source": [
    "d1 = Decimal(\"0.1\")\n",
    "d2 = Decimal(\"0.2\")\n",
    "\n",
    "Decimal(\"0.3\") == d1 + d2"
   ]
  },
  {
   "cell_type": "code",
   "execution_count": 14,
   "id": "5ad9ade8",
   "metadata": {},
   "outputs": [],
   "source": [
    "f1 = Fraction(1, 17)\n",
    "f2 = Fraction(33, 9174567)\n",
    "\n",
    "f3 = f1 + f2"
   ]
  },
  {
   "cell_type": "code",
   "execution_count": 15,
   "id": "bc68a5be",
   "metadata": {},
   "outputs": [
    {
     "data": {
      "text/plain": [
       "Fraction(3058376, 51989213)"
      ]
     },
     "execution_count": 15,
     "metadata": {},
     "output_type": "execute_result"
    }
   ],
   "source": [
    "f3"
   ]
  },
  {
   "cell_type": "code",
   "execution_count": 16,
   "id": "8c9aa609",
   "metadata": {},
   "outputs": [
    {
     "data": {
      "text/plain": [
       "0.0588271263117601"
      ]
     },
     "execution_count": 16,
     "metadata": {},
     "output_type": "execute_result"
    }
   ],
   "source": [
    "f3.numerator / f3.denominator"
   ]
  },
  {
   "cell_type": "code",
   "execution_count": null,
   "id": "38927275",
   "metadata": {},
   "outputs": [],
   "source": []
  },
  {
   "cell_type": "code",
   "execution_count": 17,
   "id": "5fce4bc9",
   "metadata": {},
   "outputs": [
    {
     "data": {
      "text/plain": [
       "123"
      ]
     },
     "execution_count": 17,
     "metadata": {},
     "output_type": "execute_result"
    }
   ],
   "source": [
    "int(\"123\")"
   ]
  },
  {
   "cell_type": "code",
   "execution_count": 19,
   "id": "015ecf5f",
   "metadata": {},
   "outputs": [
    {
     "data": {
      "text/plain": [
       "(3, 3, 3)"
      ]
     },
     "execution_count": 19,
     "metadata": {},
     "output_type": "execute_result"
    }
   ],
   "source": [
    "int(3.5), int(3.9), int(3.1)"
   ]
  },
  {
   "cell_type": "code",
   "execution_count": 20,
   "id": "b2bb5e9a",
   "metadata": {},
   "outputs": [
    {
     "data": {
      "text/plain": [
       "99"
      ]
     },
     "execution_count": 20,
     "metadata": {},
     "output_type": "execute_result"
    }
   ],
   "source": [
    "ord(\"c\")"
   ]
  },
  {
   "cell_type": "code",
   "execution_count": 21,
   "id": "296e7136",
   "metadata": {},
   "outputs": [
    {
     "data": {
      "text/plain": [
       "'c'"
      ]
     },
     "execution_count": 21,
     "metadata": {},
     "output_type": "execute_result"
    }
   ],
   "source": [
    "chr(ord(\"c\"))"
   ]
  },
  {
   "cell_type": "code",
   "execution_count": null,
   "id": "4a0b97a9",
   "metadata": {},
   "outputs": [],
   "source": []
  },
  {
   "cell_type": "code",
   "execution_count": 22,
   "id": "f1a11cb6",
   "metadata": {},
   "outputs": [
    {
     "data": {
      "text/plain": [
       "(1, 2, 2)"
      ]
     },
     "execution_count": 22,
     "metadata": {},
     "output_type": "execute_result"
    }
   ],
   "source": [
    "round(1.4), round(1.5), round(1.9)"
   ]
  },
  {
   "cell_type": "code",
   "execution_count": 24,
   "id": "18f908ea",
   "metadata": {},
   "outputs": [
    {
     "data": {
      "text/plain": [
       "(2, 2, 3, 3)"
      ]
     },
     "execution_count": 24,
     "metadata": {},
     "output_type": "execute_result"
    }
   ],
   "source": [
    "round(2.4), round(2.5), round(2.51), round(2.9)"
   ]
  },
  {
   "cell_type": "code",
   "execution_count": 25,
   "id": "59aab5a5",
   "metadata": {},
   "outputs": [
    {
     "data": {
      "text/plain": [
       "(-2, -2, -3, -3)"
      ]
     },
     "execution_count": 25,
     "metadata": {},
     "output_type": "execute_result"
    }
   ],
   "source": [
    "round(-2.4), round(-2.5), round(-2.51), round(-2.9)"
   ]
  },
  {
   "cell_type": "code",
   "execution_count": 26,
   "id": "76ca17c7",
   "metadata": {},
   "outputs": [
    {
     "data": {
      "text/plain": [
       "(-1, -2, -2)"
      ]
     },
     "execution_count": 26,
     "metadata": {},
     "output_type": "execute_result"
    }
   ],
   "source": [
    "round(-1.4), round(-1.5), round(-1.9)"
   ]
  },
  {
   "cell_type": "code",
   "execution_count": null,
   "id": "9cbe726a",
   "metadata": {},
   "outputs": [],
   "source": []
  },
  {
   "cell_type": "code",
   "execution_count": 27,
   "id": "042d0ef0",
   "metadata": {},
   "outputs": [],
   "source": [
    "name = \"От топота копыт пыль по полю летит\""
   ]
  },
  {
   "cell_type": "code",
   "execution_count": 28,
   "id": "27c6a31f",
   "metadata": {},
   "outputs": [
    {
     "data": {
      "text/plain": [
       "(True, True, True)"
      ]
     },
     "execution_count": 28,
     "metadata": {},
     "output_type": "execute_result"
    }
   ],
   "source": [
    "\"5554\".isdigit(), \"5554\".isnumeric(), \"5554\".isdecimal()"
   ]
  },
  {
   "cell_type": "code",
   "execution_count": 29,
   "id": "c653b069",
   "metadata": {},
   "outputs": [],
   "source": [
    "s = \"1¹²²³⁴⁴\""
   ]
  },
  {
   "cell_type": "code",
   "execution_count": 30,
   "id": "5f6df7dd",
   "metadata": {},
   "outputs": [
    {
     "ename": "ValueError",
     "evalue": "invalid literal for int() with base 10: '1¹²²³⁴⁴'",
     "output_type": "error",
     "traceback": [
      "\u001b[0;31m---------------------------------------------------------------------------\u001b[0m",
      "\u001b[0;31mValueError\u001b[0m                                Traceback (most recent call last)",
      "Input \u001b[0;32mIn [30]\u001b[0m, in \u001b[0;36m<cell line: 1>\u001b[0;34m()\u001b[0m\n\u001b[0;32m----> 1\u001b[0m \u001b[38;5;28;43mint\u001b[39;49m\u001b[43m(\u001b[49m\u001b[43ms\u001b[49m\u001b[43m)\u001b[49m\n",
      "\u001b[0;31mValueError\u001b[0m: invalid literal for int() with base 10: '1¹²²³⁴⁴'"
     ]
    }
   ],
   "source": [
    "int(s)"
   ]
  },
  {
   "cell_type": "code",
   "execution_count": 31,
   "id": "18186350",
   "metadata": {},
   "outputs": [
    {
     "data": {
      "text/plain": [
       "(True, True, False)"
      ]
     },
     "execution_count": 31,
     "metadata": {},
     "output_type": "execute_result"
    }
   ],
   "source": [
    "s.isdigit(), s.isnumeric(), s.isdecimal()"
   ]
  },
  {
   "cell_type": "code",
   "execution_count": 32,
   "id": "f180b87a",
   "metadata": {},
   "outputs": [
    {
     "data": {
      "text/plain": [
       "(False, False, False)"
      ]
     },
     "execution_count": 32,
     "metadata": {},
     "output_type": "execute_result"
    }
   ],
   "source": [
    "\"-5554\".isdigit(), \"-5554\".isnumeric(), \"-5554\".isdecimal()"
   ]
  },
  {
   "cell_type": "code",
   "execution_count": 33,
   "id": "fea3c226",
   "metadata": {},
   "outputs": [
    {
     "data": {
      "text/plain": [
       "(False, False, False)"
      ]
     },
     "execution_count": 33,
     "metadata": {},
     "output_type": "execute_result"
    }
   ],
   "source": [
    "\"5554.1\".isdigit(), \"5554.1\".isnumeric(), \"5554.1\".isdecimal()"
   ]
  },
  {
   "cell_type": "code",
   "execution_count": 34,
   "id": "01e8a1b7",
   "metadata": {},
   "outputs": [
    {
     "data": {
      "text/plain": [
       "-10"
      ]
     },
     "execution_count": 34,
     "metadata": {},
     "output_type": "execute_result"
    }
   ],
   "source": [
    "int(\"-10\")"
   ]
  },
  {
   "cell_type": "code",
   "execution_count": 36,
   "id": "39fc85ba",
   "metadata": {},
   "outputs": [
    {
     "data": {
      "text/plain": [
       "-10.99"
      ]
     },
     "execution_count": 36,
     "metadata": {},
     "output_type": "execute_result"
    }
   ],
   "source": [
    "float(\"-10.99\")"
   ]
  },
  {
   "cell_type": "code",
   "execution_count": 37,
   "id": "3fbc3683",
   "metadata": {},
   "outputs": [
    {
     "ename": "ValueError",
     "evalue": "could not convert string to float: '-10.99.33'",
     "output_type": "error",
     "traceback": [
      "\u001b[0;31m---------------------------------------------------------------------------\u001b[0m",
      "\u001b[0;31mValueError\u001b[0m                                Traceback (most recent call last)",
      "Input \u001b[0;32mIn [37]\u001b[0m, in \u001b[0;36m<cell line: 1>\u001b[0;34m()\u001b[0m\n\u001b[0;32m----> 1\u001b[0m \u001b[38;5;28;43mfloat\u001b[39;49m\u001b[43m(\u001b[49m\u001b[38;5;124;43m\"\u001b[39;49m\u001b[38;5;124;43m-10.99.33\u001b[39;49m\u001b[38;5;124;43m\"\u001b[39;49m\u001b[43m)\u001b[49m\n",
      "\u001b[0;31mValueError\u001b[0m: could not convert string to float: '-10.99.33'"
     ]
    }
   ],
   "source": [
    "float(\"-10.99.33\")"
   ]
  },
  {
   "cell_type": "code",
   "execution_count": 38,
   "id": "1f4a9b2f",
   "metadata": {},
   "outputs": [
    {
     "data": {
      "text/plain": [
       "'От топота копыт пыль по полю летит'"
      ]
     },
     "execution_count": 38,
     "metadata": {},
     "output_type": "execute_result"
    }
   ],
   "source": [
    "name"
   ]
  },
  {
   "cell_type": "code",
   "execution_count": 39,
   "id": "3d45f41c",
   "metadata": {},
   "outputs": [
    {
     "data": {
      "text/plain": [
       "('от топота копыт пыль по полю летит', False)"
      ]
     },
     "execution_count": 39,
     "metadata": {},
     "output_type": "execute_result"
    }
   ],
   "source": [
    "name.lower(), name.islower()"
   ]
  },
  {
   "cell_type": "code",
   "execution_count": 40,
   "id": "3b099110",
   "metadata": {},
   "outputs": [
    {
     "data": {
      "text/plain": [
       "'От Топота Копыт Пыль По Полю Летит'"
      ]
     },
     "execution_count": 40,
     "metadata": {},
     "output_type": "execute_result"
    }
   ],
   "source": [
    "name.title()"
   ]
  },
  {
   "cell_type": "code",
   "execution_count": 42,
   "id": "1f66ecba",
   "metadata": {},
   "outputs": [
    {
     "data": {
      "text/plain": [
       "'От топота копыт пыль по полю летит'"
      ]
     },
     "execution_count": 42,
     "metadata": {},
     "output_type": "execute_result"
    }
   ],
   "source": [
    "name.title().capitalize()"
   ]
  },
  {
   "cell_type": "code",
   "execution_count": 44,
   "id": "7c1fec0b",
   "metadata": {},
   "outputs": [
    {
     "data": {
      "text/plain": [
       "True"
      ]
     },
     "execution_count": 44,
     "metadata": {},
     "output_type": "execute_result"
    }
   ],
   "source": [
    "name[:2] == \"От\""
   ]
  },
  {
   "cell_type": "code",
   "execution_count": 45,
   "id": "8fc59791",
   "metadata": {},
   "outputs": [
    {
     "data": {
      "text/plain": [
       "True"
      ]
     },
     "execution_count": 45,
     "metadata": {},
     "output_type": "execute_result"
    }
   ],
   "source": [
    "name.startswith(\"От\")"
   ]
  },
  {
   "cell_type": "code",
   "execution_count": 47,
   "id": "96c56d20",
   "metadata": {},
   "outputs": [
    {
     "data": {
      "text/plain": [
       "False"
      ]
     },
     "execution_count": 47,
     "metadata": {},
     "output_type": "execute_result"
    }
   ],
   "source": [
    "name.endswith(\"От\")"
   ]
  },
  {
   "cell_type": "code",
   "execution_count": 48,
   "id": "b9eec7cc",
   "metadata": {},
   "outputs": [
    {
     "data": {
      "text/plain": [
       "True"
      ]
     },
     "execution_count": 48,
     "metadata": {},
     "output_type": "execute_result"
    }
   ],
   "source": [
    "\"топот\" in name"
   ]
  },
  {
   "cell_type": "code",
   "execution_count": 49,
   "id": "f0c9a0d7",
   "metadata": {},
   "outputs": [
    {
     "data": {
      "text/plain": [
       "3"
      ]
     },
     "execution_count": 49,
     "metadata": {},
     "output_type": "execute_result"
    }
   ],
   "source": [
    "name.find(\"топот\")"
   ]
  },
  {
   "cell_type": "code",
   "execution_count": 50,
   "id": "6bb1f8e6",
   "metadata": {},
   "outputs": [
    {
     "data": {
      "text/plain": [
       "'От топота копыт пыль по полю летит'"
      ]
     },
     "execution_count": 50,
     "metadata": {},
     "output_type": "execute_result"
    }
   ],
   "source": [
    "name"
   ]
  },
  {
   "cell_type": "code",
   "execution_count": 54,
   "id": "2368d33e",
   "metadata": {},
   "outputs": [
    {
     "data": {
      "text/plain": [
       "21"
      ]
     },
     "execution_count": 54,
     "metadata": {},
     "output_type": "execute_result"
    }
   ],
   "source": [
    "name.find(\"по\", 10)"
   ]
  },
  {
   "cell_type": "code",
   "execution_count": 55,
   "id": "466c97ec",
   "metadata": {},
   "outputs": [
    {
     "data": {
      "text/plain": [
       "-1"
      ]
     },
     "execution_count": 55,
     "metadata": {},
     "output_type": "execute_result"
    }
   ],
   "source": [
    "name.find(\"пdwkjdkwjdо\", 10)"
   ]
  },
  {
   "cell_type": "code",
   "execution_count": 56,
   "id": "e45c9b7e",
   "metadata": {},
   "outputs": [
    {
     "data": {
      "text/plain": [
       "5"
      ]
     },
     "execution_count": 56,
     "metadata": {},
     "output_type": "execute_result"
    }
   ],
   "source": [
    "name.index(\"по\")"
   ]
  },
  {
   "cell_type": "code",
   "execution_count": 57,
   "id": "cfcb6bf3",
   "metadata": {},
   "outputs": [
    {
     "ename": "ValueError",
     "evalue": "substring not found",
     "output_type": "error",
     "traceback": [
      "\u001b[0;31m---------------------------------------------------------------------------\u001b[0m",
      "\u001b[0;31mValueError\u001b[0m                                Traceback (most recent call last)",
      "Input \u001b[0;32mIn [57]\u001b[0m, in \u001b[0;36m<cell line: 1>\u001b[0;34m()\u001b[0m\n\u001b[0;32m----> 1\u001b[0m \u001b[43mname\u001b[49m\u001b[38;5;241;43m.\u001b[39;49m\u001b[43mindex\u001b[49m\u001b[43m(\u001b[49m\u001b[38;5;124;43m\"\u001b[39;49m\u001b[38;5;124;43mdwlkjdkwhdhпо\u001b[39;49m\u001b[38;5;124;43m\"\u001b[39;49m\u001b[43m)\u001b[49m\n",
      "\u001b[0;31mValueError\u001b[0m: substring not found"
     ]
    }
   ],
   "source": [
    "name.index(\"dwlkjdkwhdhпо\")"
   ]
  },
  {
   "cell_type": "code",
   "execution_count": 58,
   "id": "bedd16e5",
   "metadata": {},
   "outputs": [
    {
     "data": {
      "text/plain": [
       "3"
      ]
     },
     "execution_count": 58,
     "metadata": {},
     "output_type": "execute_result"
    }
   ],
   "source": [
    "name.count(\"по\")"
   ]
  },
  {
   "cell_type": "code",
   "execution_count": 59,
   "id": "8cd8d601",
   "metadata": {},
   "outputs": [
    {
     "data": {
      "text/plain": [
       "['От', 'топота', 'копыт', 'пыль', 'по', 'полю', 'летит']"
      ]
     },
     "execution_count": 59,
     "metadata": {},
     "output_type": "execute_result"
    }
   ],
   "source": [
    "name.split()"
   ]
  },
  {
   "cell_type": "code",
   "execution_count": 60,
   "id": "ee837cf2",
   "metadata": {},
   "outputs": [],
   "source": [
    "more_space = \"123    456\\n\\t\\r  dw\""
   ]
  },
  {
   "cell_type": "code",
   "execution_count": 61,
   "id": "77c8d4ba",
   "metadata": {},
   "outputs": [
    {
     "data": {
      "text/plain": [
       "['123', '456', 'dw']"
      ]
     },
     "execution_count": 61,
     "metadata": {},
     "output_type": "execute_result"
    }
   ],
   "source": [
    "more_space.split()"
   ]
  },
  {
   "cell_type": "code",
   "execution_count": 62,
   "id": "bd06ac40",
   "metadata": {},
   "outputs": [
    {
     "data": {
      "text/plain": [
       "['123', '', '', '', '456\\n\\t\\r', '', 'dw']"
      ]
     },
     "execution_count": 62,
     "metadata": {},
     "output_type": "execute_result"
    }
   ],
   "source": [
    "more_space.split(\" \")"
   ]
  },
  {
   "cell_type": "code",
   "execution_count": 64,
   "id": "65f02edd",
   "metadata": {},
   "outputs": [
    {
     "data": {
      "text/plain": [
       "'123 456 dw'"
      ]
     },
     "execution_count": 64,
     "metadata": {},
     "output_type": "execute_result"
    }
   ],
   "source": [
    "\" \".join(more_space.split())"
   ]
  },
  {
   "cell_type": "code",
   "execution_count": null,
   "id": "e5d54d4d",
   "metadata": {},
   "outputs": [],
   "source": [
    "for ch in more_space:\n",
    "    pass"
   ]
  },
  {
   "cell_type": "code",
   "execution_count": 66,
   "id": "acb29703",
   "metadata": {},
   "outputs": [
    {
     "data": {
      "text/plain": [
       "['123    456\\n\\t\\r ', 'dw']"
      ]
     },
     "execution_count": 66,
     "metadata": {},
     "output_type": "execute_result"
    }
   ],
   "source": [
    "more_space.rsplit(\" \", 1)"
   ]
  },
  {
   "cell_type": "code",
   "execution_count": 67,
   "id": "e9557b4a",
   "metadata": {},
   "outputs": [
    {
     "data": {
      "text/plain": [
       "'От топота копыт пыль по полю летит'"
      ]
     },
     "execution_count": 67,
     "metadata": {},
     "output_type": "execute_result"
    }
   ],
   "source": [
    "name"
   ]
  },
  {
   "cell_type": "code",
   "execution_count": 68,
   "id": "d1645c00",
   "metadata": {},
   "outputs": [
    {
     "data": {
      "text/plain": [
       "('От топота ', 'копыт', ' пыль по полю летит')"
      ]
     },
     "execution_count": 68,
     "metadata": {},
     "output_type": "execute_result"
    }
   ],
   "source": [
    "name.partition(\"копыт\")"
   ]
  },
  {
   "cell_type": "code",
   "execution_count": 69,
   "id": "b9877ff5",
   "metadata": {},
   "outputs": [
    {
     "data": {
      "text/plain": [
       "('От', ' ', 'топота копыт пыль по полю летит')"
      ]
     },
     "execution_count": 69,
     "metadata": {},
     "output_type": "execute_result"
    }
   ],
   "source": [
    "name.partition(\" \")"
   ]
  },
  {
   "cell_type": "code",
   "execution_count": 70,
   "id": "b8bb22c5",
   "metadata": {},
   "outputs": [
    {
     "data": {
      "text/plain": [
       "('От топота копыт пыль по полю летит', '', '')"
      ]
     },
     "execution_count": 70,
     "metadata": {},
     "output_type": "execute_result"
    }
   ],
   "source": [
    "name.partition(\"вцловлцов\")"
   ]
  },
  {
   "cell_type": "code",
   "execution_count": 71,
   "id": "c36f2c9b",
   "metadata": {},
   "outputs": [
    {
     "data": {
      "text/plain": [
       "'dwjwdwkd dwkjdkw  ddkwjdkwjd'"
      ]
     },
     "execution_count": 71,
     "metadata": {},
     "output_type": "execute_result"
    }
   ],
   "source": [
    "\"  \\n\\rdwjwdwkd dwkjdkw  ddkwjdkwjd\\n     \".strip()"
   ]
  },
  {
   "cell_type": "code",
   "execution_count": 72,
   "id": "33d5bf52",
   "metadata": {},
   "outputs": [
    {
     "data": {
      "text/plain": [
       "'3 space '"
      ]
     },
     "execution_count": 72,
     "metadata": {},
     "output_type": "execute_result"
    }
   ],
   "source": [
    "\"123 space 999\".strip(\"129\")"
   ]
  },
  {
   "cell_type": "code",
   "execution_count": 73,
   "id": "68f594d3",
   "metadata": {},
   "outputs": [
    {
     "data": {
      "text/plain": [
       "'123 space 999'"
      ]
     },
     "execution_count": 73,
     "metadata": {},
     "output_type": "execute_result"
    }
   ],
   "source": [
    "\"123 space 999\".removeprefix(\"129\")"
   ]
  },
  {
   "cell_type": "code",
   "execution_count": 74,
   "id": "fd369d0b",
   "metadata": {},
   "outputs": [
    {
     "data": {
      "text/plain": [
       "'123 space 999'"
      ]
     },
     "execution_count": 74,
     "metadata": {},
     "output_type": "execute_result"
    }
   ],
   "source": [
    "\"123 space 999\".removeprefix(\"21\")"
   ]
  },
  {
   "cell_type": "code",
   "execution_count": 75,
   "id": "a47be3e4",
   "metadata": {},
   "outputs": [
    {
     "data": {
      "text/plain": [
       "' space 999'"
      ]
     },
     "execution_count": 75,
     "metadata": {},
     "output_type": "execute_result"
    }
   ],
   "source": [
    "\"123 space 999\".removeprefix(\"123\")"
   ]
  },
  {
   "cell_type": "code",
   "execution_count": 76,
   "id": "92120bbc",
   "metadata": {},
   "outputs": [
    {
     "data": {
      "text/plain": [
       "' space 999'"
      ]
     },
     "execution_count": 76,
     "metadata": {},
     "output_type": "execute_result"
    }
   ],
   "source": [
    "\"123 space 999\"[3:]"
   ]
  },
  {
   "cell_type": "code",
   "execution_count": null,
   "id": "996c5fe9",
   "metadata": {},
   "outputs": [],
   "source": []
  },
  {
   "cell_type": "code",
   "execution_count": null,
   "id": "5a59d7e0",
   "metadata": {},
   "outputs": [],
   "source": []
  },
  {
   "cell_type": "code",
   "execution_count": 77,
   "id": "2a9ee224",
   "metadata": {},
   "outputs": [],
   "source": [
    "import collections"
   ]
  },
  {
   "cell_type": "code",
   "execution_count": 78,
   "id": "e6c8c75d",
   "metadata": {},
   "outputs": [],
   "source": [
    "Person = collections.namedtuple(\"Person\", [\"age\", \"name\"])"
   ]
  },
  {
   "cell_type": "code",
   "execution_count": 79,
   "id": "aade67d0",
   "metadata": {},
   "outputs": [],
   "source": [
    "p = Person(10, \"pers\")"
   ]
  },
  {
   "cell_type": "code",
   "execution_count": 80,
   "id": "d4443faa",
   "metadata": {},
   "outputs": [
    {
     "data": {
      "text/plain": [
       "Person(age=10, name='pers')"
      ]
     },
     "execution_count": 80,
     "metadata": {},
     "output_type": "execute_result"
    }
   ],
   "source": [
    "p"
   ]
  },
  {
   "cell_type": "code",
   "execution_count": 81,
   "id": "af6d8cde",
   "metadata": {},
   "outputs": [
    {
     "data": {
      "text/plain": [
       "(10, 'pers', 10, 'pers')"
      ]
     },
     "execution_count": 81,
     "metadata": {},
     "output_type": "execute_result"
    }
   ],
   "source": [
    "p.age, p.name, p[0], p[1]"
   ]
  },
  {
   "cell_type": "code",
   "execution_count": 82,
   "id": "dea687f7",
   "metadata": {},
   "outputs": [
    {
     "ename": "AttributeError",
     "evalue": "'Person' object has no attribute '__dict__'",
     "output_type": "error",
     "traceback": [
      "\u001b[0;31m---------------------------------------------------------------------------\u001b[0m",
      "\u001b[0;31mAttributeError\u001b[0m                            Traceback (most recent call last)",
      "Input \u001b[0;32mIn [82]\u001b[0m, in \u001b[0;36m<cell line: 1>\u001b[0;34m()\u001b[0m\n\u001b[0;32m----> 1\u001b[0m \u001b[43mp\u001b[49m\u001b[38;5;241;43m.\u001b[39;49m\u001b[38;5;18;43m__dict__\u001b[39;49m\n",
      "\u001b[0;31mAttributeError\u001b[0m: 'Person' object has no attribute '__dict__'"
     ]
    }
   ],
   "source": [
    "p.__dict__"
   ]
  },
  {
   "cell_type": "code",
   "execution_count": 84,
   "id": "38a75576",
   "metadata": {},
   "outputs": [
    {
     "ename": "AttributeError",
     "evalue": "can't set attribute",
     "output_type": "error",
     "traceback": [
      "\u001b[0;31m---------------------------------------------------------------------------\u001b[0m",
      "\u001b[0;31mAttributeError\u001b[0m                            Traceback (most recent call last)",
      "Input \u001b[0;32mIn [84]\u001b[0m, in \u001b[0;36m<cell line: 1>\u001b[0;34m()\u001b[0m\n\u001b[0;32m----> 1\u001b[0m p\u001b[38;5;241m.\u001b[39mage \u001b[38;5;241m=\u001b[39m \u001b[38;5;241m99\u001b[39m\n",
      "\u001b[0;31mAttributeError\u001b[0m: can't set attribute"
     ]
    }
   ],
   "source": [
    "p.age = 99"
   ]
  },
  {
   "cell_type": "code",
   "execution_count": 85,
   "id": "be5acc2e",
   "metadata": {},
   "outputs": [],
   "source": [
    "def_dict = collections.defaultdict(lambda: {\"name\": \"pers\", \"age\": 10})"
   ]
  },
  {
   "cell_type": "code",
   "execution_count": 86,
   "id": "1ca2ec81",
   "metadata": {},
   "outputs": [
    {
     "data": {
      "text/plain": [
       "defaultdict(<function __main__.<lambda>()>, {})"
      ]
     },
     "execution_count": 86,
     "metadata": {},
     "output_type": "execute_result"
    }
   ],
   "source": [
    "def_dict"
   ]
  },
  {
   "cell_type": "code",
   "execution_count": 87,
   "id": "e25225bc",
   "metadata": {},
   "outputs": [],
   "source": [
    "def_dict[33][\"age\"] = 33"
   ]
  },
  {
   "cell_type": "code",
   "execution_count": 88,
   "id": "cff8aa4c",
   "metadata": {},
   "outputs": [
    {
     "data": {
      "text/plain": [
       "defaultdict(<function __main__.<lambda>()>, {33: {'name': 'pers', 'age': 33}})"
      ]
     },
     "execution_count": 88,
     "metadata": {},
     "output_type": "execute_result"
    }
   ],
   "source": [
    "def_dict"
   ]
  },
  {
   "cell_type": "code",
   "execution_count": 89,
   "id": "7da95c62",
   "metadata": {},
   "outputs": [],
   "source": [
    "import functools"
   ]
  },
  {
   "cell_type": "code",
   "execution_count": 90,
   "id": "3f88a62e",
   "metadata": {},
   "outputs": [],
   "source": [
    "def create_dict_from_keys(keys):\n",
    "    return dict.fromkeys(keys)"
   ]
  },
  {
   "cell_type": "code",
   "execution_count": 91,
   "id": "1168032e",
   "metadata": {},
   "outputs": [
    {
     "data": {
      "text/plain": [
       "{'123': None, 'qwe': None}"
      ]
     },
     "execution_count": 91,
     "metadata": {},
     "output_type": "execute_result"
    }
   ],
   "source": [
    "create_dict_from_keys([\"123\", \"qwe\"])"
   ]
  },
  {
   "cell_type": "code",
   "execution_count": 92,
   "id": "55ac0c97",
   "metadata": {},
   "outputs": [],
   "source": [
    "keys_dict = collections.defaultdict(create_dict_from_keys)"
   ]
  },
  {
   "cell_type": "code",
   "execution_count": 93,
   "id": "e16ef12c",
   "metadata": {},
   "outputs": [
    {
     "ename": "TypeError",
     "evalue": "create_dict_from_keys() missing 1 required positional argument: 'keys'",
     "output_type": "error",
     "traceback": [
      "\u001b[0;31m---------------------------------------------------------------------------\u001b[0m",
      "\u001b[0;31mTypeError\u001b[0m                                 Traceback (most recent call last)",
      "Input \u001b[0;32mIn [93]\u001b[0m, in \u001b[0;36m<cell line: 1>\u001b[0;34m()\u001b[0m\n\u001b[0;32m----> 1\u001b[0m \u001b[43mkeys_dict\u001b[49m\u001b[43m[\u001b[49m\u001b[38;5;241;43m3\u001b[39;49m\u001b[43m]\u001b[49m\n",
      "\u001b[0;31mTypeError\u001b[0m: create_dict_from_keys() missing 1 required positional argument: 'keys'"
     ]
    }
   ],
   "source": [
    "keys_dict[3]"
   ]
  },
  {
   "cell_type": "code",
   "execution_count": 94,
   "id": "f5551315",
   "metadata": {},
   "outputs": [],
   "source": [
    "keys_dict = collections.defaultdict(functools.partial(create_dict_from_keys, [\"qwe\", \"abc\"]))"
   ]
  },
  {
   "cell_type": "code",
   "execution_count": 95,
   "id": "3f4e2ba7",
   "metadata": {},
   "outputs": [
    {
     "data": {
      "text/plain": [
       "{'qwe': None, 'abc': None}"
      ]
     },
     "execution_count": 95,
     "metadata": {},
     "output_type": "execute_result"
    }
   ],
   "source": [
    "keys_dict[3]"
   ]
  },
  {
   "cell_type": "code",
   "execution_count": 97,
   "id": "ae298ae6",
   "metadata": {},
   "outputs": [],
   "source": [
    "cnt = collections.Counter(\"kwdjwdlwldkwkjdqwldjwqkjdhwjdjwjdk\")"
   ]
  },
  {
   "cell_type": "code",
   "execution_count": 98,
   "id": "e83e5170",
   "metadata": {},
   "outputs": [
    {
     "data": {
      "text/plain": [
       "Counter({'k': 5, 'w': 8, 'd': 8, 'j': 7, 'l': 3, 'q': 2, 'h': 1})"
      ]
     },
     "execution_count": 98,
     "metadata": {},
     "output_type": "execute_result"
    }
   ],
   "source": [
    "cnt"
   ]
  },
  {
   "cell_type": "code",
   "execution_count": 99,
   "id": "863f508e",
   "metadata": {},
   "outputs": [
    {
     "data": {
      "text/plain": [
       "[('w', 8), ('d', 8), ('j', 7), ('k', 5), ('l', 3)]"
      ]
     },
     "execution_count": 99,
     "metadata": {},
     "output_type": "execute_result"
    }
   ],
   "source": [
    "cnt.most_common(5)"
   ]
  },
  {
   "cell_type": "code",
   "execution_count": 101,
   "id": "f3a2040f",
   "metadata": {},
   "outputs": [
    {
     "data": {
      "text/plain": [
       "['k',\n",
       " 'k',\n",
       " 'k',\n",
       " 'k',\n",
       " 'k',\n",
       " 'w',\n",
       " 'w',\n",
       " 'w',\n",
       " 'w',\n",
       " 'w',\n",
       " 'w',\n",
       " 'w',\n",
       " 'w',\n",
       " 'd',\n",
       " 'd',\n",
       " 'd',\n",
       " 'd',\n",
       " 'd',\n",
       " 'd',\n",
       " 'd',\n",
       " 'd',\n",
       " 'j',\n",
       " 'j',\n",
       " 'j',\n",
       " 'j',\n",
       " 'j',\n",
       " 'j',\n",
       " 'j',\n",
       " 'l',\n",
       " 'l',\n",
       " 'l',\n",
       " 'q',\n",
       " 'q',\n",
       " 'h']"
      ]
     },
     "execution_count": 101,
     "metadata": {},
     "output_type": "execute_result"
    }
   ],
   "source": [
    "list(cnt.elements())"
   ]
  },
  {
   "cell_type": "code",
   "execution_count": 102,
   "id": "41ff368d",
   "metadata": {},
   "outputs": [
    {
     "name": "stdout",
     "output_type": "stream",
     "text": [
      "3 2\n"
     ]
    }
   ],
   "source": [
    "stack = []\n",
    "stack.append(1)\n",
    "stack.append(2)\n",
    "stack.append(3)\n",
    "print(stack.pop(), stack.pop())"
   ]
  },
  {
   "cell_type": "code",
   "execution_count": 103,
   "id": "03917403",
   "metadata": {},
   "outputs": [
    {
     "data": {
      "text/plain": [
       "4"
      ]
     },
     "execution_count": 103,
     "metadata": {},
     "output_type": "execute_result"
    }
   ],
   "source": [
    "dq = collections.deque([1, 2, 3])\n",
    "dq.append(4)\n",
    "dq.pop()"
   ]
  },
  {
   "cell_type": "code",
   "execution_count": 104,
   "id": "358c4c42",
   "metadata": {},
   "outputs": [],
   "source": [
    "dq.appendleft(0)"
   ]
  },
  {
   "cell_type": "code",
   "execution_count": 105,
   "id": "3a3dd2dc",
   "metadata": {},
   "outputs": [
    {
     "data": {
      "text/plain": [
       "deque([0, 1, 2, 3])"
      ]
     },
     "execution_count": 105,
     "metadata": {},
     "output_type": "execute_result"
    }
   ],
   "source": [
    "dq"
   ]
  },
  {
   "cell_type": "code",
   "execution_count": 106,
   "id": "7292d12e",
   "metadata": {},
   "outputs": [
    {
     "data": {
      "text/plain": [
       "3"
      ]
     },
     "execution_count": 106,
     "metadata": {},
     "output_type": "execute_result"
    }
   ],
   "source": [
    "dq[3]"
   ]
  },
  {
   "cell_type": "code",
   "execution_count": 130,
   "id": "4b528c60",
   "metadata": {},
   "outputs": [],
   "source": [
    "def fib(n):\n",
    "    if n <= 2:\n",
    "        return 1\n",
    "    return fib(n - 1) + fib (n - 2)"
   ]
  },
  {
   "cell_type": "code",
   "execution_count": 131,
   "id": "d3d714ef",
   "metadata": {},
   "outputs": [
    {
     "data": {
      "text/plain": [
       "5"
      ]
     },
     "execution_count": 131,
     "metadata": {},
     "output_type": "execute_result"
    }
   ],
   "source": [
    "fib(5)"
   ]
  },
  {
   "cell_type": "code",
   "execution_count": 116,
   "id": "40b0fa7c",
   "metadata": {},
   "outputs": [
    {
     "name": "stdout",
     "output_type": "stream",
     "text": [
      "CPU times: user 4.13 s, sys: 51.4 ms, total: 4.18 s\n",
      "Wall time: 4.37 s\n"
     ]
    },
    {
     "data": {
      "text/plain": [
       "24157817"
      ]
     },
     "execution_count": 116,
     "metadata": {},
     "output_type": "execute_result"
    }
   ],
   "source": [
    "%%time\n",
    "\n",
    "fib(36)"
   ]
  },
  {
   "cell_type": "code",
   "execution_count": 117,
   "id": "a83c5e1f",
   "metadata": {},
   "outputs": [],
   "source": [
    "@functools.cache\n",
    "def fib(n):\n",
    "    if n <= 1:\n",
    "        return 1\n",
    "    return fib(n - 1) + fib (n - 2)"
   ]
  },
  {
   "cell_type": "code",
   "execution_count": 118,
   "id": "4ebd13bf",
   "metadata": {},
   "outputs": [
    {
     "name": "stdout",
     "output_type": "stream",
     "text": [
      "CPU times: user 28 µs, sys: 1 µs, total: 29 µs\n",
      "Wall time: 31 µs\n"
     ]
    },
    {
     "data": {
      "text/plain": [
       "24157817"
      ]
     },
     "execution_count": 118,
     "metadata": {},
     "output_type": "execute_result"
    }
   ],
   "source": [
    "%%time\n",
    "\n",
    "fib(36)"
   ]
  },
  {
   "cell_type": "code",
   "execution_count": 127,
   "id": "5596f37d",
   "metadata": {},
   "outputs": [],
   "source": [
    "@functools.lru_cache(2)\n",
    "def fib(n):\n",
    "    if n <= 1:\n",
    "        return 1\n",
    "    return fib(n - 1) + fib (n - 2)"
   ]
  },
  {
   "cell_type": "code",
   "execution_count": 128,
   "id": "22fce24f",
   "metadata": {},
   "outputs": [
    {
     "name": "stdout",
     "output_type": "stream",
     "text": [
      "CPU times: user 61 ms, sys: 2.49 ms, total: 63.4 ms\n",
      "Wall time: 62.2 ms\n"
     ]
    },
    {
     "data": {
      "text/plain": [
       "24157817"
      ]
     },
     "execution_count": 128,
     "metadata": {},
     "output_type": "execute_result"
    }
   ],
   "source": [
    "%%time\n",
    "\n",
    "fib(36)"
   ]
  },
  {
   "cell_type": "code",
   "execution_count": 132,
   "id": "761282e1",
   "metadata": {},
   "outputs": [],
   "source": [
    "def create_dict_from_keys(keys, values):\n",
    "    return {k: v for k, v in zip(keys, values)}"
   ]
  },
  {
   "cell_type": "code",
   "execution_count": 133,
   "id": "9bb13a47",
   "metadata": {},
   "outputs": [
    {
     "data": {
      "text/plain": [
       "{'qwe': 123, 'asd': 543}"
      ]
     },
     "execution_count": 133,
     "metadata": {},
     "output_type": "execute_result"
    }
   ],
   "source": [
    "create_dict_from_keys([\"qwe\", \"asd\"], [123, 543])"
   ]
  },
  {
   "cell_type": "code",
   "execution_count": 135,
   "id": "e7d8e996",
   "metadata": {},
   "outputs": [],
   "source": [
    "part = functools.partial(create_dict_from_keys, [\"qwe\", \"asd\"])"
   ]
  },
  {
   "cell_type": "code",
   "execution_count": 137,
   "id": "27e6fcc1",
   "metadata": {},
   "outputs": [
    {
     "data": {
      "text/plain": [
       "{'qwe': 1, 'asd': 2}"
      ]
     },
     "execution_count": 137,
     "metadata": {},
     "output_type": "execute_result"
    }
   ],
   "source": [
    "part([1, 2])"
   ]
  },
  {
   "cell_type": "code",
   "execution_count": 139,
   "id": "9dc987b9",
   "metadata": {},
   "outputs": [],
   "source": [
    "from abc import ABC, abstractmethod"
   ]
  },
  {
   "cell_type": "code",
   "execution_count": 140,
   "id": "7ceea080",
   "metadata": {},
   "outputs": [],
   "source": [
    "class APerson(ABC):\n",
    "    @abstractmethod\n",
    "    def say(self):\n",
    "        print(\"Person.say\")\n",
    "        \n",
    "\n",
    "class Person(APerson):\n",
    "    def say(self):\n",
    "        super().say()\n",
    "        print(\"Parson.say\")"
   ]
  },
  {
   "cell_type": "code",
   "execution_count": 141,
   "id": "e9e9671a",
   "metadata": {},
   "outputs": [
    {
     "name": "stdout",
     "output_type": "stream",
     "text": [
      "Person.say\n",
      "Parson.say\n"
     ]
    }
   ],
   "source": [
    "p = Person()\n",
    "p.say()"
   ]
  },
  {
   "cell_type": "code",
   "execution_count": 142,
   "id": "e1ea96f2",
   "metadata": {},
   "outputs": [],
   "source": [
    "import itertools as it"
   ]
  },
  {
   "cell_type": "code",
   "execution_count": 144,
   "id": "a05e0aef",
   "metadata": {},
   "outputs": [],
   "source": [
    "def gen(n):\n",
    "    while n > 0:\n",
    "        print(\"gen\", n)\n",
    "        yield n\n",
    "        n -= 1"
   ]
  },
  {
   "cell_type": "code",
   "execution_count": 146,
   "id": "34639b66",
   "metadata": {},
   "outputs": [],
   "source": [
    "c = it.cycle(gen(3))"
   ]
  },
  {
   "cell_type": "code",
   "execution_count": 157,
   "id": "a5132b86",
   "metadata": {},
   "outputs": [
    {
     "data": {
      "text/plain": [
       "3"
      ]
     },
     "execution_count": 157,
     "metadata": {},
     "output_type": "execute_result"
    }
   ],
   "source": [
    "next(c)"
   ]
  },
  {
   "cell_type": "code",
   "execution_count": 159,
   "id": "38084e38",
   "metadata": {},
   "outputs": [
    {
     "data": {
      "text/plain": [
       "[1, 3, 2]"
      ]
     },
     "execution_count": 159,
     "metadata": {},
     "output_type": "execute_result"
    }
   ],
   "source": [
    "list(it.islice(c, 10, 13))"
   ]
  },
  {
   "cell_type": "code",
   "execution_count": 166,
   "id": "10333168",
   "metadata": {},
   "outputs": [
    {
     "ename": "ValueError",
     "evalue": "Stop argument for islice() must be None or an integer: 0 <= x <= sys.maxsize.",
     "output_type": "error",
     "traceback": [
      "\u001b[0;31m---------------------------------------------------------------------------\u001b[0m",
      "\u001b[0;31mValueError\u001b[0m                                Traceback (most recent call last)",
      "Input \u001b[0;32mIn [166]\u001b[0m, in \u001b[0;36m<cell line: 1>\u001b[0;34m()\u001b[0m\n\u001b[0;32m----> 1\u001b[0m \u001b[38;5;28mlist\u001b[39m(\u001b[43mit\u001b[49m\u001b[38;5;241;43m.\u001b[39;49m\u001b[43mislice\u001b[49m\u001b[43m(\u001b[49m\u001b[43mc\u001b[49m\u001b[43m,\u001b[49m\u001b[43m \u001b[49m\u001b[38;5;241;43m1\u001b[39;49m\u001b[43m,\u001b[49m\u001b[43m \u001b[49m\u001b[38;5;241;43m-\u001b[39;49m\u001b[38;5;241;43m1\u001b[39;49m\u001b[43m)\u001b[49m)\n",
      "\u001b[0;31mValueError\u001b[0m: Stop argument for islice() must be None or an integer: 0 <= x <= sys.maxsize."
     ]
    }
   ],
   "source": [
    "list(it.islice(c, 1, -1))"
   ]
  },
  {
   "cell_type": "code",
   "execution_count": 160,
   "id": "732ae963",
   "metadata": {},
   "outputs": [
    {
     "ename": "TypeError",
     "evalue": "'itertools.cycle' object is not subscriptable",
     "output_type": "error",
     "traceback": [
      "\u001b[0;31m---------------------------------------------------------------------------\u001b[0m",
      "\u001b[0;31mTypeError\u001b[0m                                 Traceback (most recent call last)",
      "Input \u001b[0;32mIn [160]\u001b[0m, in \u001b[0;36m<cell line: 1>\u001b[0;34m()\u001b[0m\n\u001b[0;32m----> 1\u001b[0m \u001b[43mc\u001b[49m\u001b[43m[\u001b[49m\u001b[38;5;241;43m20\u001b[39;49m\u001b[43m:\u001b[49m\u001b[38;5;241;43m23\u001b[39;49m\u001b[43m]\u001b[49m\n",
      "\u001b[0;31mTypeError\u001b[0m: 'itertools.cycle' object is not subscriptable"
     ]
    }
   ],
   "source": [
    "c[20:23]"
   ]
  },
  {
   "cell_type": "code",
   "execution_count": 161,
   "id": "0887610a",
   "metadata": {},
   "outputs": [],
   "source": [
    "lst = [1, 2, 3, 15, -5]"
   ]
  },
  {
   "cell_type": "code",
   "execution_count": 163,
   "id": "3af221b0",
   "metadata": {},
   "outputs": [
    {
     "data": {
      "text/plain": [
       "[1, 3, 6, 21, 16]"
      ]
     },
     "execution_count": 163,
     "metadata": {},
     "output_type": "execute_result"
    }
   ],
   "source": [
    "list(it.accumulate(lst))"
   ]
  },
  {
   "cell_type": "code",
   "execution_count": 165,
   "id": "70699092",
   "metadata": {},
   "outputs": [
    {
     "data": {
      "text/plain": [
       "[1, 2, 6, 90, -450]"
      ]
     },
     "execution_count": 165,
     "metadata": {},
     "output_type": "execute_result"
    }
   ],
   "source": [
    "list(it.accumulate(lst, lambda x, y: x * y))"
   ]
  },
  {
   "cell_type": "code",
   "execution_count": 168,
   "id": "e6e12244",
   "metadata": {},
   "outputs": [
    {
     "ename": "ValueError",
     "evalue": "Step for islice() must be a positive integer or None.",
     "output_type": "error",
     "traceback": [
      "\u001b[0;31m---------------------------------------------------------------------------\u001b[0m",
      "\u001b[0;31mValueError\u001b[0m                                Traceback (most recent call last)",
      "Input \u001b[0;32mIn [168]\u001b[0m, in \u001b[0;36m<cell line: 1>\u001b[0;34m()\u001b[0m\n\u001b[0;32m----> 1\u001b[0m \u001b[43mit\u001b[49m\u001b[38;5;241;43m.\u001b[39;49m\u001b[43mislice\u001b[49m\u001b[43m(\u001b[49m\u001b[43mc\u001b[49m\u001b[43m,\u001b[49m\u001b[43m \u001b[49m\u001b[38;5;241;43m10\u001b[39;49m\u001b[43m,\u001b[49m\u001b[43m \u001b[49m\u001b[38;5;241;43m20\u001b[39;49m\u001b[43m,\u001b[49m\u001b[43m \u001b[49m\u001b[38;5;241;43m-\u001b[39;49m\u001b[38;5;241;43m1\u001b[39;49m\u001b[43m)\u001b[49m\n",
      "\u001b[0;31mValueError\u001b[0m: Step for islice() must be a positive integer or None."
     ]
    }
   ],
   "source": [
    "it.islice(c, 10, 20, -1)"
   ]
  },
  {
   "cell_type": "code",
   "execution_count": 169,
   "id": "5c1ec5b9",
   "metadata": {},
   "outputs": [
    {
     "name": "stdout",
     "output_type": "stream",
     "text": [
      "1\n",
      "2\n",
      "3\n",
      "15\n",
      "-5\n",
      "gen 3\n",
      "gen 2\n",
      "2\n",
      "gen 1\n",
      "1\n",
      "q\n",
      "w\n",
      "e\n",
      "r\n"
     ]
    }
   ],
   "source": [
    "ch = it.chain(lst, it.islice(gen(3), 1, 5), \"qwer\")\n",
    "\n",
    "for elem in ch:\n",
    "    print(elem)"
   ]
  },
  {
   "cell_type": "code",
   "execution_count": 174,
   "id": "1b36e146",
   "metadata": {},
   "outputs": [
    {
     "data": {
      "text/plain": [
       "[0, 2]"
      ]
     },
     "execution_count": 174,
     "metadata": {},
     "output_type": "execute_result"
    }
   ],
   "source": [
    "list(it.compress(range(4), [\"dw\", 0, 1, 0]))"
   ]
  },
  {
   "cell_type": "code",
   "execution_count": 176,
   "id": "71c857ea",
   "metadata": {},
   "outputs": [
    {
     "name": "stdout",
     "output_type": "stream",
     "text": [
      "False <itertools._grouper object at 0x113a827d0> ['q', 'q', 'q', 'w', 'q', 'q', 't']\n",
      "True <itertools._grouper object at 0x112b6af50> ['e', 'j']\n",
      "False <itertools._grouper object at 0x112d46080> ['q', 'q', 'q', 'r', 'r', 'w']\n"
     ]
    }
   ],
   "source": [
    "for val, vals in it.groupby(\"qqqwqqtejqqqrrw\", key=lambda x: ord(x) < ord(\"q\")):\n",
    "    print(val, vals, list(vals))"
   ]
  },
  {
   "cell_type": "code",
   "execution_count": null,
   "id": "7821dca0",
   "metadata": {},
   "outputs": [],
   "source": []
  },
  {
   "cell_type": "code",
   "execution_count": 178,
   "id": "c15d5eb4",
   "metadata": {},
   "outputs": [],
   "source": [
    "import enum\n",
    "import dataclasses"
   ]
  },
  {
   "cell_type": "code",
   "execution_count": 179,
   "id": "12d1fabf",
   "metadata": {},
   "outputs": [],
   "source": [
    "class Colors(enum.Enum):\n",
    "    RED = \"red\"\n",
    "    GREEN = \"green\"\n",
    "    PINK = \"pink\""
   ]
  },
  {
   "cell_type": "code",
   "execution_count": 180,
   "id": "11c07801",
   "metadata": {},
   "outputs": [
    {
     "name": "stdout",
     "output_type": "stream",
     "text": [
      "Colors.RED\n",
      "Colors.GREEN\n",
      "Colors.PINK\n"
     ]
    }
   ],
   "source": [
    "for i in Colors:\n",
    "    print(i)"
   ]
  },
  {
   "cell_type": "code",
   "execution_count": 181,
   "id": "684606e1",
   "metadata": {},
   "outputs": [],
   "source": [
    "r = Colors.RED"
   ]
  },
  {
   "cell_type": "code",
   "execution_count": 182,
   "id": "119e334b",
   "metadata": {},
   "outputs": [
    {
     "data": {
      "text/plain": [
       "('RED', 'red')"
      ]
     },
     "execution_count": 182,
     "metadata": {},
     "output_type": "execute_result"
    }
   ],
   "source": [
    "r.name, r.value"
   ]
  },
  {
   "cell_type": "code",
   "execution_count": 183,
   "id": "13371a0c",
   "metadata": {},
   "outputs": [
    {
     "ename": "AttributeError",
     "evalue": "can't set attribute",
     "output_type": "error",
     "traceback": [
      "\u001b[0;31m---------------------------------------------------------------------------\u001b[0m",
      "\u001b[0;31mAttributeError\u001b[0m                            Traceback (most recent call last)",
      "Input \u001b[0;32mIn [183]\u001b[0m, in \u001b[0;36m<cell line: 1>\u001b[0;34m()\u001b[0m\n\u001b[0;32m----> 1\u001b[0m r\u001b[38;5;241m.\u001b[39mvalue \u001b[38;5;241m=\u001b[39m \u001b[38;5;124m\"\u001b[39m\u001b[38;5;124mgreen\u001b[39m\u001b[38;5;124m\"\u001b[39m\n",
      "File \u001b[0;32m/Library/Frameworks/Python.framework/Versions/3.10/lib/python3.10/types.py:187\u001b[0m, in \u001b[0;36mDynamicClassAttribute.__set__\u001b[0;34m(self, instance, value)\u001b[0m\n\u001b[1;32m    185\u001b[0m \u001b[38;5;28;01mdef\u001b[39;00m \u001b[38;5;21m__set__\u001b[39m(\u001b[38;5;28mself\u001b[39m, instance, value):\n\u001b[1;32m    186\u001b[0m     \u001b[38;5;28;01mif\u001b[39;00m \u001b[38;5;28mself\u001b[39m\u001b[38;5;241m.\u001b[39mfset \u001b[38;5;129;01mis\u001b[39;00m \u001b[38;5;28;01mNone\u001b[39;00m:\n\u001b[0;32m--> 187\u001b[0m         \u001b[38;5;28;01mraise\u001b[39;00m \u001b[38;5;167;01mAttributeError\u001b[39;00m(\u001b[38;5;124m\"\u001b[39m\u001b[38;5;124mcan\u001b[39m\u001b[38;5;124m'\u001b[39m\u001b[38;5;124mt set attribute\u001b[39m\u001b[38;5;124m\"\u001b[39m)\n\u001b[1;32m    188\u001b[0m     \u001b[38;5;28mself\u001b[39m\u001b[38;5;241m.\u001b[39mfset(instance, value)\n",
      "\u001b[0;31mAttributeError\u001b[0m: can't set attribute"
     ]
    }
   ],
   "source": [
    "r.value = \"green\""
   ]
  },
  {
   "cell_type": "code",
   "execution_count": 185,
   "id": "8ae854a2",
   "metadata": {},
   "outputs": [],
   "source": [
    "gr = Colors(\"green\")"
   ]
  },
  {
   "cell_type": "code",
   "execution_count": 186,
   "id": "f45354bc",
   "metadata": {},
   "outputs": [
    {
     "data": {
      "text/plain": [
       "<Colors.GREEN: 'green'>"
      ]
     },
     "execution_count": 186,
     "metadata": {},
     "output_type": "execute_result"
    }
   ],
   "source": [
    "gr"
   ]
  },
  {
   "cell_type": "code",
   "execution_count": 193,
   "id": "a405fa4e",
   "metadata": {},
   "outputs": [
    {
     "data": {
      "text/plain": [
       "(True, False)"
      ]
     },
     "execution_count": 193,
     "metadata": {},
     "output_type": "execute_result"
    }
   ],
   "source": [
    "gr is Colors.GREEN, gr is Colors.RED"
   ]
  },
  {
   "cell_type": "code",
   "execution_count": null,
   "id": "6e7005f1",
   "metadata": {},
   "outputs": [],
   "source": []
  },
  {
   "cell_type": "code",
   "execution_count": 187,
   "id": "12f02d95",
   "metadata": {},
   "outputs": [],
   "source": [
    "Colors.BLUE = \"blue\""
   ]
  },
  {
   "cell_type": "code",
   "execution_count": 189,
   "id": "a2889a59",
   "metadata": {},
   "outputs": [
    {
     "name": "stdout",
     "output_type": "stream",
     "text": [
      "Colors.RED\n",
      "Colors.GREEN\n",
      "Colors.PINK\n"
     ]
    }
   ],
   "source": [
    "for c in Colors:\n",
    "    print(c)"
   ]
  },
  {
   "cell_type": "code",
   "execution_count": 190,
   "id": "f8734e87",
   "metadata": {},
   "outputs": [
    {
     "data": {
      "text/plain": [
       "'blue'"
      ]
     },
     "execution_count": 190,
     "metadata": {},
     "output_type": "execute_result"
    }
   ],
   "source": [
    "Colors.BLUE"
   ]
  },
  {
   "cell_type": "code",
   "execution_count": 191,
   "id": "441ad2a1",
   "metadata": {},
   "outputs": [
    {
     "data": {
      "text/plain": [
       "mappingproxy({'_generate_next_value_': <function enum.Enum._generate_next_value_(name, start, count, last_values)>,\n",
       "              '__module__': '__main__',\n",
       "              '__doc__': 'An enumeration.',\n",
       "              '_member_names_': ['RED', 'GREEN', 'PINK'],\n",
       "              '_member_map_': {'RED': <Colors.RED: 'red'>,\n",
       "               'GREEN': <Colors.GREEN: 'green'>,\n",
       "               'PINK': <Colors.PINK: 'pink'>},\n",
       "              '_member_type_': object,\n",
       "              '_value2member_map_': {'red': <Colors.RED: 'red'>,\n",
       "               'green': <Colors.GREEN: 'green'>,\n",
       "               'pink': <Colors.PINK: 'pink'>},\n",
       "              'RED': <Colors.RED: 'red'>,\n",
       "              'GREEN': <Colors.GREEN: 'green'>,\n",
       "              'PINK': <Colors.PINK: 'pink'>,\n",
       "              '__new__': <function enum.Enum.__new__(cls, value)>,\n",
       "              'BLUE': 'blue'})"
      ]
     },
     "execution_count": 191,
     "metadata": {},
     "output_type": "execute_result"
    }
   ],
   "source": [
    "Colors.__dict__"
   ]
  },
  {
   "cell_type": "code",
   "execution_count": 194,
   "id": "a96796a5",
   "metadata": {},
   "outputs": [
    {
     "name": "stdout",
     "output_type": "stream",
     "text": [
      "<enum 'Colors'> Colors.RED\n"
     ]
    }
   ],
   "source": [
    "print(Colors, Colors.RED)"
   ]
  },
  {
   "cell_type": "code",
   "execution_count": 195,
   "id": "70c701bf",
   "metadata": {},
   "outputs": [
    {
     "data": {
      "text/plain": [
       "'red'"
      ]
     },
     "execution_count": 195,
     "metadata": {},
     "output_type": "execute_result"
    }
   ],
   "source": [
    "Colors.RED.value"
   ]
  },
  {
   "cell_type": "code",
   "execution_count": 202,
   "id": "81490b38",
   "metadata": {},
   "outputs": [],
   "source": [
    "class Colors(enum.Enum):\n",
    "    RED = \"red\"\n",
    "    GREEN = \"green\"\n",
    "    PINK = \"pink\"\n",
    "    \n",
    "    def __str__(self):\n",
    "        return self.value"
   ]
  },
  {
   "cell_type": "code",
   "execution_count": 204,
   "id": "b1be79a4",
   "metadata": {},
   "outputs": [
    {
     "name": "stdout",
     "output_type": "stream",
     "text": [
      "<enum 'Colors'> [<Colors.RED: 'red'>]\n"
     ]
    }
   ],
   "source": [
    "print(Colors, [Colors.RED])"
   ]
  },
  {
   "cell_type": "code",
   "execution_count": 205,
   "id": "87222ea6",
   "metadata": {},
   "outputs": [],
   "source": [
    "class Colors(str, enum.Enum):\n",
    "    RED = \"red\"\n",
    "    GREEN = \"green\"\n",
    "    PINK = \"pink\"\n",
    "    \n",
    "    def __str__(self):\n",
    "        return self.value"
   ]
  },
  {
   "cell_type": "code",
   "execution_count": 206,
   "id": "75e35471",
   "metadata": {},
   "outputs": [
    {
     "name": "stdout",
     "output_type": "stream",
     "text": [
      "<enum 'Colors'> [<Colors.RED: 'red'>]\n"
     ]
    }
   ],
   "source": [
    "print(Colors, [Colors.RED])"
   ]
  },
  {
   "cell_type": "code",
   "execution_count": null,
   "id": "26cdf188",
   "metadata": {},
   "outputs": [],
   "source": []
  },
  {
   "cell_type": "code",
   "execution_count": 214,
   "id": "cc67e20f",
   "metadata": {},
   "outputs": [],
   "source": []
  },
  {
   "cell_type": "code",
   "execution_count": 217,
   "id": "de8b4b6e",
   "metadata": {},
   "outputs": [
    {
     "name": "stdout",
     "output_type": "stream",
     "text": [
      "['ch1', 'ch2'] ['ch1', 'ch2'] True\n"
     ]
    }
   ],
   "source": [
    "class PersonOrd:\n",
    "    def __init__(self, age: int, name: str, children: list[Person] = []):\n",
    "        self.age = age\n",
    "        self.name = name\n",
    "        self.children = children\n",
    "    \n",
    "p1 = PersonOrd(1, \"11\")\n",
    "p1.children.append(\"ch1\")\n",
    "p2 = PersonOrd(2, \"22\")\n",
    "p2.children.append(\"ch2\")\n",
    "\n",
    "print(p1.children, p2.children, p1.children is p2.children)"
   ]
  },
  {
   "cell_type": "code",
   "execution_count": 225,
   "id": "73f5498c",
   "metadata": {},
   "outputs": [
    {
     "name": "stdout",
     "output_type": "stream",
     "text": [
      "False\n"
     ]
    }
   ],
   "source": [
    "class XXX:\n",
    "    pass\n",
    "\n",
    "print(XXX() == XXX())\n",
    "\n",
    "\n",
    "@dataclasses.dataclass\n",
    "class Person:\n",
    "    age: int\n",
    "    name: str\n",
    "    xxx: XXX\n",
    "    children: list[Person] = dataclasses.field(default_factory=list)"
   ]
  },
  {
   "cell_type": "code",
   "execution_count": 220,
   "id": "1abb6cf5",
   "metadata": {},
   "outputs": [],
   "source": [
    "p1 = Person(10, \"p1\")\n",
    "p2 = Person(10, \"p2\")"
   ]
  },
  {
   "cell_type": "code",
   "execution_count": 221,
   "id": "b3f103fd",
   "metadata": {},
   "outputs": [
    {
     "data": {
      "text/plain": [
       "Person(age=10, name='p1', children=[])"
      ]
     },
     "execution_count": 221,
     "metadata": {},
     "output_type": "execute_result"
    }
   ],
   "source": [
    "p1"
   ]
  },
  {
   "cell_type": "code",
   "execution_count": 222,
   "id": "675ce4aa",
   "metadata": {},
   "outputs": [
    {
     "data": {
      "text/plain": [
       "False"
      ]
     },
     "execution_count": 222,
     "metadata": {},
     "output_type": "execute_result"
    }
   ],
   "source": [
    "p1 == p2"
   ]
  },
  {
   "cell_type": "code",
   "execution_count": 223,
   "id": "3ea822b3",
   "metadata": {},
   "outputs": [
    {
     "data": {
      "text/plain": [
       "True"
      ]
     },
     "execution_count": 223,
     "metadata": {},
     "output_type": "execute_result"
    }
   ],
   "source": [
    "Person(10, \"p1\") == Person(10, \"p1\")"
   ]
  },
  {
   "cell_type": "code",
   "execution_count": 227,
   "id": "a66110c6",
   "metadata": {},
   "outputs": [
    {
     "data": {
      "text/plain": [
       "True"
      ]
     },
     "execution_count": 227,
     "metadata": {},
     "output_type": "execute_result"
    }
   ],
   "source": [
    "x = XXX()\n",
    "Person(10, \"p1\", x) == Person(10, \"p1\", x)"
   ]
  },
  {
   "cell_type": "code",
   "execution_count": null,
   "id": "9790ab66",
   "metadata": {},
   "outputs": [],
   "source": []
  },
  {
   "cell_type": "code",
   "execution_count": 230,
   "id": "09199b21",
   "metadata": {},
   "outputs": [],
   "source": [
    "@dataclasses.dataclass(slots=True)\n",
    "class Person:\n",
    "    age: int\n",
    "    name: str\n",
    "    children: list[Person] = dataclasses.field(default_factory=list) \n",
    "\n",
    "\n",
    "p1 = Person(10, \"p1\")\n",
    "p2 = Person(10, \"p2\")"
   ]
  },
  {
   "cell_type": "code",
   "execution_count": 231,
   "id": "b7acd95b",
   "metadata": {},
   "outputs": [
    {
     "name": "stdout",
     "output_type": "stream",
     "text": [
      "Person(age=10, name='p1', children=[])\n"
     ]
    }
   ],
   "source": [
    "print(p1)"
   ]
  },
  {
   "cell_type": "code",
   "execution_count": 232,
   "id": "ab9e81e4",
   "metadata": {},
   "outputs": [
    {
     "ename": "AttributeError",
     "evalue": "'Person' object has no attribute 'xxx'",
     "output_type": "error",
     "traceback": [
      "\u001b[0;31m---------------------------------------------------------------------------\u001b[0m",
      "\u001b[0;31mAttributeError\u001b[0m                            Traceback (most recent call last)",
      "Input \u001b[0;32mIn [232]\u001b[0m, in \u001b[0;36m<cell line: 1>\u001b[0;34m()\u001b[0m\n\u001b[0;32m----> 1\u001b[0m p1\u001b[38;5;241m.\u001b[39mxxx \u001b[38;5;241m=\u001b[39m XXX()\n",
      "\u001b[0;31mAttributeError\u001b[0m: 'Person' object has no attribute 'xxx'"
     ]
    }
   ],
   "source": [
    "p1.xxx = XXX()"
   ]
  },
  {
   "cell_type": "code",
   "execution_count": 233,
   "id": "217239af",
   "metadata": {},
   "outputs": [],
   "source": [
    "@dataclasses.dataclass(frozen=True)\n",
    "class Person:\n",
    "    age: int\n",
    "    name: str\n",
    "    children: list[Person] = dataclasses.field(default_factory=list) \n",
    "\n",
    "\n",
    "p1 = Person(10, \"p1\")\n",
    "p2 = Person(10, \"p2\")"
   ]
  },
  {
   "cell_type": "code",
   "execution_count": 235,
   "id": "45cf805b",
   "metadata": {},
   "outputs": [
    {
     "ename": "FrozenInstanceError",
     "evalue": "cannot assign to field 'age'",
     "output_type": "error",
     "traceback": [
      "\u001b[0;31m---------------------------------------------------------------------------\u001b[0m",
      "\u001b[0;31mFrozenInstanceError\u001b[0m                       Traceback (most recent call last)",
      "Input \u001b[0;32mIn [235]\u001b[0m, in \u001b[0;36m<cell line: 1>\u001b[0;34m()\u001b[0m\n\u001b[0;32m----> 1\u001b[0m p1\u001b[38;5;241m.\u001b[39mage \u001b[38;5;241m=\u001b[39m \u001b[38;5;241m20\u001b[39m\n",
      "File \u001b[0;32m<string>:4\u001b[0m, in \u001b[0;36m__setattr__\u001b[0;34m(self, name, value)\u001b[0m\n",
      "\u001b[0;31mFrozenInstanceError\u001b[0m: cannot assign to field 'age'"
     ]
    }
   ],
   "source": [
    "p1.age = 20"
   ]
  },
  {
   "cell_type": "code",
   "execution_count": 236,
   "id": "34629794",
   "metadata": {},
   "outputs": [],
   "source": [
    "p1.__dict__[\"age\"] = 20"
   ]
  },
  {
   "cell_type": "code",
   "execution_count": 237,
   "id": "bc17b4f2",
   "metadata": {},
   "outputs": [
    {
     "data": {
      "text/plain": [
       "20"
      ]
     },
     "execution_count": 237,
     "metadata": {},
     "output_type": "execute_result"
    }
   ],
   "source": [
    "p1.age"
   ]
  },
  {
   "cell_type": "code",
   "execution_count": 259,
   "id": "89c18d21",
   "metadata": {},
   "outputs": [
    {
     "ename": "TypeError",
     "evalue": "'<' not supported between instances of 'Person' and 'Person'",
     "output_type": "error",
     "traceback": [
      "\u001b[0;31m---------------------------------------------------------------------------\u001b[0m",
      "\u001b[0;31mTypeError\u001b[0m                                 Traceback (most recent call last)",
      "Input \u001b[0;32mIn [259]\u001b[0m, in \u001b[0;36m<cell line: 1>\u001b[0;34m()\u001b[0m\n\u001b[0;32m----> 1\u001b[0m \u001b[43mp1\u001b[49m\u001b[43m \u001b[49m\u001b[38;5;241;43m<\u001b[39;49m\u001b[43m \u001b[49m\u001b[43mp2\u001b[49m\n",
      "\u001b[0;31mTypeError\u001b[0m: '<' not supported between instances of 'Person' and 'Person'"
     ]
    }
   ],
   "source": [
    "p1 < p2"
   ]
  },
  {
   "cell_type": "code",
   "execution_count": 238,
   "id": "f6d3256c",
   "metadata": {},
   "outputs": [
    {
     "ename": "FrozenInstanceError",
     "evalue": "cannot assign to field 'xx'",
     "output_type": "error",
     "traceback": [
      "\u001b[0;31m---------------------------------------------------------------------------\u001b[0m",
      "\u001b[0;31mFrozenInstanceError\u001b[0m                       Traceback (most recent call last)",
      "Input \u001b[0;32mIn [238]\u001b[0m, in \u001b[0;36m<cell line: 1>\u001b[0;34m()\u001b[0m\n\u001b[0;32m----> 1\u001b[0m p1\u001b[38;5;241m.\u001b[39mxx \u001b[38;5;241m=\u001b[39m \u001b[38;5;124m\"\u001b[39m\u001b[38;5;124mdwdw\u001b[39m\u001b[38;5;124m\"\u001b[39m\n",
      "File \u001b[0;32m<string>:4\u001b[0m, in \u001b[0;36m__setattr__\u001b[0;34m(self, name, value)\u001b[0m\n",
      "\u001b[0;31mFrozenInstanceError\u001b[0m: cannot assign to field 'xx'"
     ]
    }
   ],
   "source": [
    "p1.xx = \"dwdw\""
   ]
  },
  {
   "cell_type": "code",
   "execution_count": 254,
   "id": "e1db23bd",
   "metadata": {},
   "outputs": [
    {
     "name": "stdout",
     "output_type": "stream",
     "text": [
      "Student.post_init\n"
     ]
    }
   ],
   "source": [
    "@dataclasses.dataclass\n",
    "class Person:\n",
    "    age: int\n",
    "    name: str\n",
    "    children: list[Person] = dataclasses.field(default_factory=list) \n",
    "        \n",
    "\n",
    "@dataclasses.dataclass\n",
    "class Student(Person):\n",
    "    score: int = 88\n",
    "    koeff: dataclasses.InitVar[int] = 33\n",
    "\n",
    "    def __post_init__(self, koeff):\n",
    "        print(\"Student.post_init\")\n",
    "        self.score = self.score + self.age + koeff\n",
    "\n",
    "\n",
    "st1 = Student(10, \"p1\", [], 99, 0)"
   ]
  },
  {
   "cell_type": "code",
   "execution_count": null,
   "id": "96e91add",
   "metadata": {},
   "outputs": [],
   "source": []
  },
  {
   "cell_type": "code",
   "execution_count": null,
   "id": "12d7abc5",
   "metadata": {},
   "outputs": [],
   "source": []
  },
  {
   "cell_type": "code",
   "execution_count": null,
   "id": "66005ad7",
   "metadata": {},
   "outputs": [],
   "source": []
  },
  {
   "cell_type": "code",
   "execution_count": 255,
   "id": "7380df54",
   "metadata": {},
   "outputs": [
    {
     "data": {
      "text/plain": [
       "Student(age=10, name='p1', children=[], score=109)"
      ]
     },
     "execution_count": 255,
     "metadata": {},
     "output_type": "execute_result"
    }
   ],
   "source": [
    "st1"
   ]
  },
  {
   "cell_type": "code",
   "execution_count": 256,
   "id": "d55ab270",
   "metadata": {},
   "outputs": [
    {
     "data": {
      "text/plain": [
       "{'age': 10, 'name': 'p1', 'children': [], 'score': 109}"
      ]
     },
     "execution_count": 256,
     "metadata": {},
     "output_type": "execute_result"
    }
   ],
   "source": [
    "st1.__dict__"
   ]
  },
  {
   "cell_type": "code",
   "execution_count": 257,
   "id": "a423777d",
   "metadata": {},
   "outputs": [
    {
     "data": {
      "text/plain": [
       "33"
      ]
     },
     "execution_count": 257,
     "metadata": {},
     "output_type": "execute_result"
    }
   ],
   "source": [
    "st1.koeff"
   ]
  },
  {
   "cell_type": "code",
   "execution_count": 258,
   "id": "af80a8ce",
   "metadata": {},
   "outputs": [
    {
     "data": {
      "text/plain": [
       "mappingproxy({'__module__': '__main__',\n",
       "              '__annotations__': {'score': int,\n",
       "               'koeff': dataclasses.InitVar[int]},\n",
       "              'score': 88,\n",
       "              'koeff': 33,\n",
       "              '__post_init__': <function __main__.Student.__post_init__(self, koeff)>,\n",
       "              '__doc__': 'Student(age: int, name: str, children: list[__main__.Person] = <factory>, score: int = 88, koeff: dataclasses.InitVar[int] = 33)',\n",
       "              '__dataclass_params__': _DataclassParams(init=True,repr=True,eq=True,order=False,unsafe_hash=False,frozen=False),\n",
       "              '__dataclass_fields__': {'age': Field(name='age',type=<class 'int'>,default=<dataclasses._MISSING_TYPE object at 0x10f27cfa0>,default_factory=<dataclasses._MISSING_TYPE object at 0x10f27cfa0>,init=True,repr=True,hash=None,compare=True,metadata=mappingproxy({}),kw_only=False,_field_type=_FIELD),\n",
       "               'name': Field(name='name',type=<class 'str'>,default=<dataclasses._MISSING_TYPE object at 0x10f27cfa0>,default_factory=<dataclasses._MISSING_TYPE object at 0x10f27cfa0>,init=True,repr=True,hash=None,compare=True,metadata=mappingproxy({}),kw_only=False,_field_type=_FIELD),\n",
       "               'children': Field(name='children',type=list[__main__.Person],default=<dataclasses._MISSING_TYPE object at 0x10f27cfa0>,default_factory=<class 'list'>,init=True,repr=True,hash=None,compare=True,metadata=mappingproxy({}),kw_only=False,_field_type=_FIELD),\n",
       "               'score': Field(name='score',type=<class 'int'>,default=88,default_factory=<dataclasses._MISSING_TYPE object at 0x10f27cfa0>,init=True,repr=True,hash=None,compare=True,metadata=mappingproxy({}),kw_only=False,_field_type=_FIELD),\n",
       "               'koeff': Field(name='koeff',type=dataclasses.InitVar[int],default=33,default_factory=<dataclasses._MISSING_TYPE object at 0x10f27cfa0>,init=True,repr=True,hash=None,compare=True,metadata=mappingproxy({}),kw_only=False,_field_type=_FIELD_INITVAR)},\n",
       "              '__init__': <function __main__.Student.__init__(self, age: int, name: str, children: list[__main__.Person] = <factory>, score: int = 88, koeff: dataclasses.InitVar[int] = 33) -> None>,\n",
       "              '__repr__': <function __main__.Student.__repr__(self)>,\n",
       "              '__eq__': <function __main__.Student.__eq__(self, other)>,\n",
       "              '__hash__': None,\n",
       "              '__match_args__': ('age', 'name', 'children', 'score', 'koeff')})"
      ]
     },
     "execution_count": 258,
     "metadata": {},
     "output_type": "execute_result"
    }
   ],
   "source": [
    "Student.__dict__"
   ]
  },
  {
   "cell_type": "code",
   "execution_count": null,
   "id": "beccf8af",
   "metadata": {},
   "outputs": [],
   "source": []
  },
  {
   "cell_type": "code",
   "execution_count": 260,
   "id": "e6d9f002",
   "metadata": {},
   "outputs": [],
   "source": [
    "@dataclasses.dataclass(order=True)\n",
    "class Person:\n",
    "    age: int\n",
    "    name: str\n",
    "    children: list[Person] = dataclasses.field(default_factory=list) \n"
   ]
  },
  {
   "cell_type": "code",
   "execution_count": 261,
   "id": "5950d990",
   "metadata": {},
   "outputs": [
    {
     "data": {
      "text/plain": [
       "True"
      ]
     },
     "execution_count": 261,
     "metadata": {},
     "output_type": "execute_result"
    }
   ],
   "source": [
    "p1 = Person(10, \"10\")\n",
    "p2 = Person(10, \"20\")\n",
    "\n",
    "p1 < p2"
   ]
  },
  {
   "cell_type": "code",
   "execution_count": 262,
   "id": "89fb6db9",
   "metadata": {},
   "outputs": [
    {
     "data": {
      "text/plain": [
       "True"
      ]
     },
     "execution_count": 262,
     "metadata": {},
     "output_type": "execute_result"
    }
   ],
   "source": [
    "(p1.age, p1.name) < (p2.age, p2.name)"
   ]
  },
  {
   "cell_type": "code",
   "execution_count": null,
   "id": "d716fb32",
   "metadata": {},
   "outputs": [],
   "source": []
  }
 ],
 "metadata": {
  "kernelspec": {
   "display_name": "Python 3 (ipykernel)",
   "language": "python",
   "name": "python3"
  },
  "language_info": {
   "codemirror_mode": {
    "name": "ipython",
    "version": 3
   },
   "file_extension": ".py",
   "mimetype": "text/x-python",
   "name": "python",
   "nbconvert_exporter": "python",
   "pygments_lexer": "ipython3",
   "version": "3.10.2"
  }
 },
 "nbformat": 4,
 "nbformat_minor": 5
}
